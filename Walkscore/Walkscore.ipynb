{
 "cells": [
  {
   "cell_type": "code",
   "execution_count": 1,
   "metadata": {},
   "outputs": [
    {
     "name": "stdout",
     "output_type": "stream",
     "text": [
      "<?xml version=\"1.0\" encoding=\"utf-8\"?>\n",
      "<result xmlns=\"http://walkscore.com/2008/results\">\n",
      "    <status>1</status>\n",
      "\t\n",
      "    \n",
      "        <walkscore>70</walkscore>\n",
      "        <description>Somewhat Walkable</description>\n",
      "        <updated>2019-11-13 19:51:04.678541</updated>\n",
      "    \n",
      "\t<logo_url>https://cdn.walk.sc/images/api-logo.png</logo_url>\n",
      "\t<more_info_icon>https://cdn.walk.sc/images/api-more-info.gif</more_info_icon>\n",
      "\t<more_info_link>https://www.redfin.com/how-walk-score-works</more_info_link>\n",
      "\t<ws_link>https://www.walkscore.com/score/1/lat=39.79/lng=-105.11/?utm_source=yahoo.com&amp;utm_medium=ws_api&amp;utm_campaign=ws_api</ws_link>\n",
      "\t<help_link>https://www.redfin.com/how-walk-score-works</help_link>\n",
      "\t<snapped_lat>39.7905</snapped_lat>\n",
      "\t<snapped_lon>-105.1095</snapped_lon>\n",
      "</result>\n"
     ]
    }
   ],
   "source": [
    "import requests\n",
    "\n",
    "url = \"https://walk-score.p.rapidapi.com/score\"\n",
    "\n",
    "querystring = {\"lon\":\"-105.11\",\"lat\":\"39.79\",\"address\":\"1\",\"wsapikey\":\"b72221d8763203418d081f140357696e\"}\n",
    "\n",
    "headers = {\n",
    "    'x-rapidapi-host': \"walk-score.p.rapidapi.com\",\n",
    "    'x-rapidapi-key': \"01dfe27917msh29e7634d132b982p18044djsn63b3af634af6\"\n",
    "    }\n",
    "\n",
    "response = requests.request(\"GET\", url, headers=headers, params=querystring)\n",
    "\n",
    "print(response.text)"
   ]
  },
  {
   "cell_type": "code",
   "execution_count": 2,
   "metadata": {},
   "outputs": [
    {
     "name": "stdout",
     "output_type": "stream",
     "text": [
      "<?xml version=\"1.0\" encoding=\"utf-8\"?>\n",
      "<result xmlns=\"http://walkscore.com/2008/results\">\n",
      "    <status>1</status>\n",
      "\t\n",
      "    \n",
      "        <walkscore>42</walkscore>\n",
      "        <description>Car-Dependent</description>\n",
      "        <updated>2019-12-22 12:23:30.029215</updated>\n",
      "    \n",
      "\t<logo_url>https://cdn.walk.sc/images/api-logo.png</logo_url>\n",
      "\t<more_info_icon>https://cdn.walk.sc/images/api-more-info.gif</more_info_icon>\n",
      "\t<more_info_link>https://www.redfin.com/how-walk-score-works</more_info_link>\n",
      "\t<ws_link>https://www.walkscore.com/score/1/lat=39.83/lng=-105.06/?utm_source=yahoo.com&amp;utm_medium=ws_api&amp;utm_campaign=ws_api</ws_link>\n",
      "\t<help_link>https://www.redfin.com/how-walk-score-works</help_link>\n",
      "\t<snapped_lat>39.8295</snapped_lat>\n",
      "\t<snapped_lon>-105.0600</snapped_lon>\n",
      "</result>\n"
     ]
    }
   ],
   "source": [
    "import requests\n",
    "\n",
    "url = \"https://walk-score.p.rapidapi.com/score\"\n",
    "\n",
    "querystring = {\"lon\":\"-105.06\",\"lat\":\"39.83\",\"address\":\"1\",\"wsapikey\":\"b72221d8763203418d081f140357696e\"}\n",
    "\n",
    "headers = {\n",
    "    'x-rapidapi-host': \"walk-score.p.rapidapi.com\",\n",
    "    'x-rapidapi-key': \"01dfe27917msh29e7634d132b982p18044djsn63b3af634af6\"\n",
    "    }\n",
    "\n",
    "response = requests.request(\"GET\", url, headers=headers, params=querystring)\n",
    "\n",
    "print(response.text)"
   ]
  },
  {
   "cell_type": "code",
   "execution_count": 3,
   "metadata": {},
   "outputs": [
    {
     "name": "stdout",
     "output_type": "stream",
     "text": [
      "<?xml version=\"1.0\" encoding=\"utf-8\"?>\n",
      "<result xmlns=\"http://walkscore.com/2008/results\">\n",
      "    <status>1</status>\n",
      "\t\n",
      "    \n",
      "        <walkscore>17</walkscore>\n",
      "        <description>Car-Dependent</description>\n",
      "        <updated>2019-12-25 22:54:08.875771</updated>\n",
      "    \n",
      "\t<logo_url>https://cdn.walk.sc/images/api-logo.png</logo_url>\n",
      "\t<more_info_icon>https://cdn.walk.sc/images/api-more-info.gif</more_info_icon>\n",
      "\t<more_info_link>https://www.redfin.com/how-walk-score-works</more_info_link>\n",
      "\t<ws_link>https://www.walkscore.com/score/1/lat=39.82/lng=-105.1/?utm_source=yahoo.com&amp;utm_medium=ws_api&amp;utm_campaign=ws_api</ws_link>\n",
      "\t<help_link>https://www.redfin.com/how-walk-score-works</help_link>\n",
      "\t<snapped_lat>39.8205</snapped_lat>\n",
      "\t<snapped_lon>-105.1005</snapped_lon>\n",
      "</result>\n"
     ]
    }
   ],
   "source": [
    "import requests\n",
    "\n",
    "url = \"https://walk-score.p.rapidapi.com/score\"\n",
    "\n",
    "querystring = {\"lon\":\"-105.1\",\"lat\":\"39.82\",\"address\":\"1\",\"wsapikey\":\"b72221d8763203418d081f140357696e\"}\n",
    "\n",
    "headers = {\n",
    "    'x-rapidapi-host': \"walk-score.p.rapidapi.com\",\n",
    "    'x-rapidapi-key': \"01dfe27917msh29e7634d132b982p18044djsn63b3af634af6\"\n",
    "    }\n",
    "\n",
    "response = requests.request(\"GET\", url, headers=headers, params=querystring)\n",
    "\n",
    "print(response.text)\n"
   ]
  },
  {
   "cell_type": "code",
   "execution_count": 4,
   "metadata": {},
   "outputs": [
    {
     "name": "stdout",
     "output_type": "stream",
     "text": [
      "<?xml version=\"1.0\" encoding=\"utf-8\"?>\n",
      "<result xmlns=\"http://walkscore.com/2008/results\">\n",
      "    <status>1</status>\n",
      "\t\n",
      "    \n",
      "        <walkscore>10</walkscore>\n",
      "        <description>Car-Dependent</description>\n",
      "        <updated>2019-08-29 07:52:31.767843</updated>\n",
      "    \n",
      "\t<logo_url>https://cdn.walk.sc/images/api-logo.png</logo_url>\n",
      "\t<more_info_icon>https://cdn.walk.sc/images/api-more-info.gif</more_info_icon>\n",
      "\t<more_info_link>https://www.redfin.com/how-walk-score-works</more_info_link>\n",
      "\t<ws_link>https://www.walkscore.com/score/1/lat=39.85/lng=-105.13/?utm_source=yahoo.com&amp;utm_medium=ws_api&amp;utm_campaign=ws_api</ws_link>\n",
      "\t<help_link>https://www.redfin.com/how-walk-score-works</help_link>\n",
      "\t<snapped_lat>39.8505</snapped_lat>\n",
      "\t<snapped_lon>-105.1305</snapped_lon>\n",
      "</result>\n"
     ]
    }
   ],
   "source": [
    "import requests\n",
    "\n",
    "url = \"https://walk-score.p.rapidapi.com/score\"\n",
    "\n",
    "querystring = {\"lon\":\"-105.13\",\"lat\":\"39.85\",\"address\":\"1\",\"wsapikey\":\"b72221d8763203418d081f140357696e\"}\n",
    "\n",
    "headers = {\n",
    "    'x-rapidapi-host': \"walk-score.p.rapidapi.com\",\n",
    "    'x-rapidapi-key': \"01dfe27917msh29e7634d132b982p18044djsn63b3af634af6\"\n",
    "    }\n",
    "\n",
    "response = requests.request(\"GET\", url, headers=headers, params=querystring)\n",
    "\n",
    "print(response.text)"
   ]
  },
  {
   "cell_type": "code",
   "execution_count": 5,
   "metadata": {},
   "outputs": [
    {
     "name": "stdout",
     "output_type": "stream",
     "text": [
      "<?xml version=\"1.0\" encoding=\"utf-8\"?>\n",
      "<result xmlns=\"http://walkscore.com/2008/results\">\n",
      "    <status>1</status>\n",
      "\t\n",
      "    \n",
      "        <walkscore>15</walkscore>\n",
      "        <description>Car-Dependent</description>\n",
      "        <updated>2019-08-07 23:28:55.609418</updated>\n",
      "    \n",
      "\t<logo_url>https://cdn.walk.sc/images/api-logo.png</logo_url>\n",
      "\t<more_info_icon>https://cdn.walk.sc/images/api-more-info.gif</more_info_icon>\n",
      "\t<more_info_link>https://www.redfin.com/how-walk-score-works</more_info_link>\n",
      "\t<ws_link>https://www.walkscore.com/score/1/lat=39.88/lng=-105.05/?utm_source=yahoo.com&amp;utm_medium=ws_api&amp;utm_campaign=ws_api</ws_link>\n",
      "\t<help_link>https://www.redfin.com/how-walk-score-works</help_link>\n",
      "\t<snapped_lat>39.8805</snapped_lat>\n",
      "\t<snapped_lon>-105.0495</snapped_lon>\n",
      "</result>\n"
     ]
    }
   ],
   "source": [
    "import requests\n",
    "\n",
    "url = \"https://walk-score.p.rapidapi.com/score\"\n",
    "\n",
    "querystring = {\"lon\":\"-105.05\",\"lat\":\"39.88\",\"address\":\"1\",\"wsapikey\":\"b72221d8763203418d081f140357696e\"}\n",
    "\n",
    "headers = {\n",
    "    'x-rapidapi-host': \"walk-score.p.rapidapi.com\",\n",
    "    'x-rapidapi-key': \"01dfe27917msh29e7634d132b982p18044djsn63b3af634af6\"\n",
    "    }\n",
    "\n",
    "response = requests.request(\"GET\", url, headers=headers, params=querystring)\n",
    "\n",
    "print(response.text)"
   ]
  },
  {
   "cell_type": "code",
   "execution_count": 6,
   "metadata": {},
   "outputs": [
    {
     "name": "stdout",
     "output_type": "stream",
     "text": [
      "<?xml version=\"1.0\" encoding=\"utf-8\"?>\n",
      "<result xmlns=\"http://walkscore.com/2008/results\">\n",
      "    <status>1</status>\n",
      "\t\n",
      "    \n",
      "        <walkscore>47</walkscore>\n",
      "        <description>Car-Dependent</description>\n",
      "        <updated>2019-11-16 14:33:32.496004</updated>\n",
      "    \n",
      "\t<logo_url>https://cdn.walk.sc/images/api-logo.png</logo_url>\n",
      "\t<more_info_icon>https://cdn.walk.sc/images/api-more-info.gif</more_info_icon>\n",
      "\t<more_info_link>https://www.redfin.com/how-walk-score-works</more_info_link>\n",
      "\t<ws_link>https://www.walkscore.com/score/1/lat=39.77/lng=-105.09/?utm_source=yahoo.com&amp;utm_medium=ws_api&amp;utm_campaign=ws_api</ws_link>\n",
      "\t<help_link>https://www.redfin.com/how-walk-score-works</help_link>\n",
      "\t<snapped_lat>39.7695</snapped_lat>\n",
      "\t<snapped_lon>-105.0900</snapped_lon>\n",
      "</result>\n"
     ]
    }
   ],
   "source": [
    "import requests\n",
    "\n",
    "url = \"https://walk-score.p.rapidapi.com/score\"\n",
    "\n",
    "querystring = {\"lon\":\"-105.09\",\"lat\":\"39.77\",\"address\":\"1\",\"wsapikey\":\"b72221d8763203418d081f140357696e\"}\n",
    "\n",
    "headers = {\n",
    "    'x-rapidapi-host': \"walk-score.p.rapidapi.com\",\n",
    "    'x-rapidapi-key': \"01dfe27917msh29e7634d132b982p18044djsn63b3af634af6\"\n",
    "    }\n",
    "\n",
    "response = requests.request(\"GET\", url, headers=headers, params=querystring)\n",
    "\n",
    "print(response.text)"
   ]
  },
  {
   "cell_type": "code",
   "execution_count": 7,
   "metadata": {},
   "outputs": [
    {
     "name": "stdout",
     "output_type": "stream",
     "text": [
      "<?xml version=\"1.0\" encoding=\"utf-8\"?>\n",
      "<result xmlns=\"http://walkscore.com/2008/results\">\n",
      "    <status>1</status>\n",
      "\t\n",
      "    \n",
      "        <walkscore>58</walkscore>\n",
      "        <description>Somewhat Walkable</description>\n",
      "        <updated>2019-08-06 01:10:16.998338</updated>\n",
      "    \n",
      "\t<logo_url>https://cdn.walk.sc/images/api-logo.png</logo_url>\n",
      "\t<more_info_icon>https://cdn.walk.sc/images/api-more-info.gif</more_info_icon>\n",
      "\t<more_info_link>https://www.redfin.com/how-walk-score-works</more_info_link>\n",
      "\t<ws_link>https://www.walkscore.com/score/1/lat=39.64/lng=-104.99/?utm_source=yahoo.com&amp;utm_medium=ws_api&amp;utm_campaign=ws_api</ws_link>\n",
      "\t<help_link>https://www.redfin.com/how-walk-score-works</help_link>\n",
      "\t<snapped_lat>39.6405</snapped_lat>\n",
      "\t<snapped_lon>-104.9895</snapped_lon>\n",
      "</result>\n"
     ]
    }
   ],
   "source": [
    "import requests\n",
    "\n",
    "url = \"https://walk-score.p.rapidapi.com/score\"\n",
    "\n",
    "querystring = {\"lon\":\"-104.99\",\"lat\":\"39.64\",\"address\":\"1\",\"wsapikey\":\"b72221d8763203418d081f140357696e\"}\n",
    "\n",
    "headers = {\n",
    "    'x-rapidapi-host': \"walk-score.p.rapidapi.com\",\n",
    "    'x-rapidapi-key': \"01dfe27917msh29e7634d132b982p18044djsn63b3af634af6\"\n",
    "    }\n",
    "\n",
    "response = requests.request(\"GET\", url, headers=headers, params=querystring)\n",
    "\n",
    "print(response.text)"
   ]
  },
  {
   "cell_type": "code",
   "execution_count": 8,
   "metadata": {},
   "outputs": [
    {
     "name": "stdout",
     "output_type": "stream",
     "text": [
      "<?xml version=\"1.0\" encoding=\"utf-8\"?>\n",
      "<result xmlns=\"http://walkscore.com/2008/results\">\n",
      "    <status>1</status>\n",
      "\t\n",
      "    \n",
      "        <walkscore>20</walkscore>\n",
      "        <description>Car-Dependent</description>\n",
      "        <updated>2019-12-01 15:51:26.139547</updated>\n",
      "    \n",
      "\t<logo_url>https://cdn.walk.sc/images/api-logo.png</logo_url>\n",
      "\t<more_info_icon>https://cdn.walk.sc/images/api-more-info.gif</more_info_icon>\n",
      "\t<more_info_link>https://www.redfin.com/how-walk-score-works</more_info_link>\n",
      "\t<ws_link>https://www.walkscore.com/score/1/lat=39.62/lng=-105.07/?utm_source=yahoo.com&amp;utm_medium=ws_api&amp;utm_campaign=ws_api</ws_link>\n",
      "\t<help_link>https://www.redfin.com/how-walk-score-works</help_link>\n",
      "\t<snapped_lat>39.6195</snapped_lat>\n",
      "\t<snapped_lon>-105.0705</snapped_lon>\n",
      "</result>\n"
     ]
    }
   ],
   "source": [
    "import requests\n",
    "\n",
    "url = \"https://walk-score.p.rapidapi.com/score\"\n",
    "\n",
    "querystring = {\"lon\":\"-105.07\",\"lat\":\"39.62\",\"address\":\"1\",\"wsapikey\":\"b72221d8763203418d081f140357696e\"}\n",
    "\n",
    "headers = {\n",
    "    'x-rapidapi-host': \"walk-score.p.rapidapi.com\",\n",
    "    'x-rapidapi-key': \"01dfe27917msh29e7634d132b982p18044djsn63b3af634af6\"\n",
    "    }\n",
    "\n",
    "response = requests.request(\"GET\", url, headers=headers, params=querystring)\n",
    "\n",
    "print(response.text)"
   ]
  },
  {
   "cell_type": "code",
   "execution_count": 9,
   "metadata": {},
   "outputs": [
    {
     "name": "stdout",
     "output_type": "stream",
     "text": [
      "<?xml version=\"1.0\" encoding=\"utf-8\"?>\n",
      "<result xmlns=\"http://walkscore.com/2008/results\">\n",
      "    <status>1</status>\n",
      "\t\n",
      "    \n",
      "        <walkscore>6</walkscore>\n",
      "        <description>Car-Dependent</description>\n",
      "        <updated>2019-07-31 18:14:45.436694</updated>\n",
      "    \n",
      "\t<logo_url>https://cdn.walk.sc/images/api-logo.png</logo_url>\n",
      "\t<more_info_icon>https://cdn.walk.sc/images/api-more-info.gif</more_info_icon>\n",
      "\t<more_info_link>https://www.redfin.com/how-walk-score-works</more_info_link>\n",
      "\t<ws_link>https://www.walkscore.com/score/1/lat=39.57/lng=-105.14/?utm_source=yahoo.com&amp;utm_medium=ws_api&amp;utm_campaign=ws_api</ws_link>\n",
      "\t<help_link>https://www.redfin.com/how-walk-score-works</help_link>\n",
      "\t<snapped_lat>39.5700</snapped_lat>\n",
      "\t<snapped_lon>-105.1395</snapped_lon>\n",
      "</result>\n"
     ]
    }
   ],
   "source": [
    "import requests\n",
    "\n",
    "url = \"https://walk-score.p.rapidapi.com/score\"\n",
    "\n",
    "querystring = {\"lon\":\"-105.14\",\"lat\":\"39.57\",\"address\":\"1\",\"wsapikey\":\"b72221d8763203418d081f140357696e\"}\n",
    "\n",
    "headers = {\n",
    "    'x-rapidapi-host': \"walk-score.p.rapidapi.com\",\n",
    "    'x-rapidapi-key': \"01dfe27917msh29e7634d132b982p18044djsn63b3af634af6\"\n",
    "    }\n",
    "\n",
    "response = requests.request(\"GET\", url, headers=headers, params=querystring)\n",
    "\n",
    "print(response.text)"
   ]
  },
  {
   "cell_type": "code",
   "execution_count": 10,
   "metadata": {},
   "outputs": [
    {
     "name": "stdout",
     "output_type": "stream",
     "text": [
      "<?xml version=\"1.0\" encoding=\"utf-8\"?>\n",
      "<result xmlns=\"http://walkscore.com/2008/results\">\n",
      "    <status>1</status>\n",
      "\t\n",
      "    \n",
      "        <walkscore>14</walkscore>\n",
      "        <description>Car-Dependent</description>\n",
      "        <updated>2019-10-01 13:02:53.569101</updated>\n",
      "    \n",
      "\t<logo_url>https://cdn.walk.sc/images/api-logo.png</logo_url>\n",
      "\t<more_info_icon>https://cdn.walk.sc/images/api-more-info.gif</more_info_icon>\n",
      "\t<more_info_link>https://www.redfin.com/how-walk-score-works</more_info_link>\n",
      "\t<ws_link>https://www.walkscore.com/score/1/lat=39.56/lng=-105.08/?utm_source=yahoo.com&amp;utm_medium=ws_api&amp;utm_campaign=ws_api</ws_link>\n",
      "\t<help_link>https://www.redfin.com/how-walk-score-works</help_link>\n",
      "\t<snapped_lat>39.5595</snapped_lat>\n",
      "\t<snapped_lon>-105.0795</snapped_lon>\n",
      "</result>\n"
     ]
    }
   ],
   "source": [
    "import requests\n",
    "\n",
    "url = \"https://walk-score.p.rapidapi.com/score\"\n",
    "\n",
    "querystring = {\"lon\":\"-105.08\",\"lat\":\"39.56\",\"address\":\"1\",\"wsapikey\":\"b72221d8763203418d081f140357696e\"}\n",
    "\n",
    "headers = {\n",
    "    'x-rapidapi-host': \"walk-score.p.rapidapi.com\",\n",
    "    'x-rapidapi-key': \"01dfe27917msh29e7634d132b982p18044djsn63b3af634af6\"\n",
    "    }\n",
    "\n",
    "response = requests.request(\"GET\", url, headers=headers, params=querystring)\n",
    "\n",
    "print(response.text)"
   ]
  },
  {
   "cell_type": "code",
   "execution_count": 11,
   "metadata": {},
   "outputs": [
    {
     "name": "stdout",
     "output_type": "stream",
     "text": [
      "<?xml version=\"1.0\" encoding=\"utf-8\"?>\n",
      "<result xmlns=\"http://walkscore.com/2008/results\">\n",
      "    <status>1</status>\n",
      "\t\n",
      "    \n",
      "        <walkscore>68</walkscore>\n",
      "        <description>Somewhat Walkable</description>\n",
      "        <updated>2019-12-18 05:24:39.558018</updated>\n",
      "    \n",
      "\t<logo_url>https://cdn.walk.sc/images/api-logo.png</logo_url>\n",
      "\t<more_info_icon>https://cdn.walk.sc/images/api-more-info.gif</more_info_icon>\n",
      "\t<more_info_link>https://www.redfin.com/how-walk-score-works</more_info_link>\n",
      "\t<ws_link>https://www.walkscore.com/score/1/lat=39.73/lng=-105.02/?utm_source=yahoo.com&amp;utm_medium=ws_api&amp;utm_campaign=ws_api</ws_link>\n",
      "\t<help_link>https://www.redfin.com/how-walk-score-works</help_link>\n",
      "\t<snapped_lat>39.7305</snapped_lat>\n",
      "\t<snapped_lon>-105.0195</snapped_lon>\n",
      "</result>\n"
     ]
    }
   ],
   "source": [
    "import requests\n",
    "\n",
    "url = \"https://walk-score.p.rapidapi.com/score\"\n",
    "\n",
    "querystring = {\"lon\":\"-105.02\",\"lat\":\"39.73\",\"address\":\"1\",\"wsapikey\":\"b72221d8763203418d081f140357696e\"}\n",
    "\n",
    "headers = {\n",
    "    'x-rapidapi-host': \"walk-score.p.rapidapi.com\",\n",
    "    'x-rapidapi-key': \"01dfe27917msh29e7634d132b982p18044djsn63b3af634af6\"\n",
    "    }\n",
    "\n",
    "response = requests.request(\"GET\", url, headers=headers, params=querystring)\n",
    "\n",
    "print(response.text)"
   ]
  },
  {
   "cell_type": "code",
   "execution_count": 12,
   "metadata": {},
   "outputs": [
    {
     "name": "stdout",
     "output_type": "stream",
     "text": [
      "<?xml version=\"1.0\" encoding=\"utf-8\"?>\n",
      "<result xmlns=\"http://walkscore.com/2008/results\">\n",
      "    <status>1</status>\n",
      "\t\n",
      "    \n",
      "        <walkscore>78</walkscore>\n",
      "        <description>Very Walkable</description>\n",
      "        <updated>2019-10-02 05:00:41.832028</updated>\n",
      "    \n",
      "\t<logo_url>https://cdn.walk.sc/images/api-logo.png</logo_url>\n",
      "\t<more_info_icon>https://cdn.walk.sc/images/api-more-info.gif</more_info_icon>\n",
      "\t<more_info_link>https://www.redfin.com/how-walk-score-works</more_info_link>\n",
      "\t<ws_link>https://www.walkscore.com/score/1/lat=39.77/lng=-105.02/?utm_source=yahoo.com&amp;utm_medium=ws_api&amp;utm_campaign=ws_api</ws_link>\n",
      "\t<help_link>https://www.redfin.com/how-walk-score-works</help_link>\n",
      "\t<snapped_lat>39.7695</snapped_lat>\n",
      "\t<snapped_lon>-105.0195</snapped_lon>\n",
      "</result>\n"
     ]
    }
   ],
   "source": [
    "import requests\n",
    "\n",
    "url = \"https://walk-score.p.rapidapi.com/score\"\n",
    "\n",
    "querystring = {\"lon\":\"-105.02\",\"lat\":\"39.77\",\"address\":\"1\",\"wsapikey\":\"b72221d8763203418d081f140357696e\"}\n",
    "\n",
    "headers = {\n",
    "    'x-rapidapi-host': \"walk-score.p.rapidapi.com\",\n",
    "    'x-rapidapi-key': \"01dfe27917msh29e7634d132b982p18044djsn63b3af634af6\"\n",
    "    }\n",
    "\n",
    "response = requests.request(\"GET\", url, headers=headers, params=querystring)\n",
    "\n",
    "print(response.text)"
   ]
  },
  {
   "cell_type": "code",
   "execution_count": 13,
   "metadata": {},
   "outputs": [
    {
     "name": "stdout",
     "output_type": "stream",
     "text": [
      "<?xml version=\"1.0\" encoding=\"utf-8\"?>\n",
      "<result xmlns=\"http://walkscore.com/2008/results\">\n",
      "    <status>1</status>\n",
      "\t\n",
      "    \n",
      "        <walkscore>87</walkscore>\n",
      "        <description>Very Walkable</description>\n",
      "        <updated>2019-10-20 12:36:31.797575</updated>\n",
      "    \n",
      "\t<logo_url>https://cdn.walk.sc/images/api-logo.png</logo_url>\n",
      "\t<more_info_icon>https://cdn.walk.sc/images/api-more-info.gif</more_info_icon>\n",
      "\t<more_info_link>https://www.redfin.com/how-walk-score-works</more_info_link>\n",
      "\t<ws_link>https://www.walkscore.com/score/1/lat=39.77/lng=-105.05/?utm_source=yahoo.com&amp;utm_medium=ws_api&amp;utm_campaign=ws_api</ws_link>\n",
      "\t<help_link>https://www.redfin.com/how-walk-score-works</help_link>\n",
      "\t<snapped_lat>39.7695</snapped_lat>\n",
      "\t<snapped_lon>-105.0495</snapped_lon>\n",
      "</result>\n"
     ]
    }
   ],
   "source": [
    "import requests\n",
    "\n",
    "url = \"https://walk-score.p.rapidapi.com/score\"\n",
    "\n",
    "querystring = {\"lon\":\"-105.05\",\"lat\":\"39.77\",\"address\":\"1\",\"wsapikey\":\"b72221d8763203418d081f140357696e\"}\n",
    "\n",
    "headers = {\n",
    "    'x-rapidapi-host': \"walk-score.p.rapidapi.com\",\n",
    "    'x-rapidapi-key': \"01dfe27917msh29e7634d132b982p18044djsn63b3af634af6\"\n",
    "    }\n",
    "\n",
    "response = requests.request(\"GET\", url, headers=headers, params=querystring)\n",
    "\n",
    "print(response.text)"
   ]
  },
  {
   "cell_type": "code",
   "execution_count": 14,
   "metadata": {},
   "outputs": [
    {
     "name": "stdout",
     "output_type": "stream",
     "text": [
      "<?xml version=\"1.0\" encoding=\"utf-8\"?>\n",
      "<result xmlns=\"http://walkscore.com/2008/results\">\n",
      "    <status>1</status>\n",
      "\t\n",
      "    \n",
      "        <walkscore>66</walkscore>\n",
      "        <description>Somewhat Walkable</description>\n",
      "        <updated>2019-11-14 10:57:43.849966</updated>\n",
      "    \n",
      "\t<logo_url>https://cdn.walk.sc/images/api-logo.png</logo_url>\n",
      "\t<more_info_icon>https://cdn.walk.sc/images/api-more-info.gif</more_info_icon>\n",
      "\t<more_info_link>https://www.redfin.com/how-walk-score-works</more_info_link>\n",
      "\t<ws_link>https://www.walkscore.com/score/1/lat=39.74/lng=-105.07/?utm_source=yahoo.com&amp;utm_medium=ws_api&amp;utm_campaign=ws_api</ws_link>\n",
      "\t<help_link>https://www.redfin.com/how-walk-score-works</help_link>\n",
      "\t<snapped_lat>39.7395</snapped_lat>\n",
      "\t<snapped_lon>-105.0705</snapped_lon>\n",
      "</result>\n"
     ]
    }
   ],
   "source": [
    "import requests\n",
    "\n",
    "url = \"https://walk-score.p.rapidapi.com/score\"\n",
    "\n",
    "querystring = {\"lon\":\"-105.07\",\"lat\":\"39.74\",\"address\":\"1\",\"wsapikey\":\"b72221d8763203418d081f140357696e\"}\n",
    "\n",
    "headers = {\n",
    "    'x-rapidapi-host': \"walk-score.p.rapidapi.com\",\n",
    "    'x-rapidapi-key': \"01dfe27917msh29e7634d132b982p18044djsn63b3af634af6\"\n",
    "    }\n",
    "\n",
    "response = requests.request(\"GET\", url, headers=headers, params=querystring)\n",
    "\n",
    "print(response.text)"
   ]
  },
  {
   "cell_type": "code",
   "execution_count": 15,
   "metadata": {},
   "outputs": [
    {
     "name": "stdout",
     "output_type": "stream",
     "text": [
      "<?xml version=\"1.0\" encoding=\"utf-8\"?>\n",
      "<result xmlns=\"http://walkscore.com/2008/results\">\n",
      "    <status>1</status>\n",
      "\t\n",
      "    \n",
      "        <walkscore>54</walkscore>\n",
      "        <description>Somewhat Walkable</description>\n",
      "        <updated>2019-11-15 11:58:13.779975</updated>\n",
      "    \n",
      "\t<logo_url>https://cdn.walk.sc/images/api-logo.png</logo_url>\n",
      "\t<more_info_icon>https://cdn.walk.sc/images/api-more-info.gif</more_info_icon>\n",
      "\t<more_info_link>https://www.redfin.com/how-walk-score-works</more_info_link>\n",
      "\t<ws_link>https://www.walkscore.com/score/1/lat=39.74/lng=-105.12/?utm_source=yahoo.com&amp;utm_medium=ws_api&amp;utm_campaign=ws_api</ws_link>\n",
      "\t<help_link>https://www.redfin.com/how-walk-score-works</help_link>\n",
      "\t<snapped_lat>39.7395</snapped_lat>\n",
      "\t<snapped_lon>-105.1200</snapped_lon>\n",
      "</result>\n"
     ]
    }
   ],
   "source": [
    "import requests\n",
    "\n",
    "url = \"https://walk-score.p.rapidapi.com/score\"\n",
    "\n",
    "querystring = {\"lon\":\"-105.12\",\"lat\":\"39.74\",\"address\":\"1\",\"wsapikey\":\"b72221d8763203418d081f140357696e\"}\n",
    "\n",
    "headers = {\n",
    "    'x-rapidapi-host': \"walk-score.p.rapidapi.com\",\n",
    "    'x-rapidapi-key': \"01dfe27917msh29e7634d132b982p18044djsn63b3af634af6\"\n",
    "    }\n",
    "\n",
    "response = requests.request(\"GET\", url, headers=headers, params=querystring)\n",
    "\n",
    "print(response.text)"
   ]
  },
  {
   "cell_type": "code",
   "execution_count": 16,
   "metadata": {},
   "outputs": [
    {
     "name": "stdout",
     "output_type": "stream",
     "text": [
      "<?xml version=\"1.0\" encoding=\"utf-8\"?>\n",
      "<result xmlns=\"http://walkscore.com/2008/results\">\n",
      "    <status>1</status>\n",
      "\t\n",
      "    \n",
      "        <walkscore>51</walkscore>\n",
      "        <description>Somewhat Walkable</description>\n",
      "        <updated>2019-11-05 23:34:49.328496</updated>\n",
      "    \n",
      "\t<logo_url>https://cdn.walk.sc/images/api-logo.png</logo_url>\n",
      "\t<more_info_icon>https://cdn.walk.sc/images/api-more-info.gif</more_info_icon>\n",
      "\t<more_info_link>https://www.redfin.com/how-walk-score-works</more_info_link>\n",
      "\t<ws_link>https://www.walkscore.com/score/1/lat=39.7/lng=-105.04/?utm_source=yahoo.com&amp;utm_medium=ws_api&amp;utm_campaign=ws_api</ws_link>\n",
      "\t<help_link>https://www.redfin.com/how-walk-score-works</help_link>\n",
      "\t<snapped_lat>39.7005</snapped_lat>\n",
      "\t<snapped_lon>-105.0405</snapped_lon>\n",
      "</result>\n"
     ]
    }
   ],
   "source": [
    "import requests\n",
    "\n",
    "url = \"https://walk-score.p.rapidapi.com/score\"\n",
    "\n",
    "querystring = {\"lon\":\"-105.04\",\"lat\":\"39.7\",\"address\":\"1\",\"wsapikey\":\"b72221d8763203418d081f140357696e\"}\n",
    "\n",
    "headers = {\n",
    "    'x-rapidapi-host': \"walk-score.p.rapidapi.com\",\n",
    "    'x-rapidapi-key': \"01dfe27917msh29e7634d132b982p18044djsn63b3af634af6\"\n",
    "    }\n",
    "\n",
    "response = requests.request(\"GET\", url, headers=headers, params=querystring)\n",
    "\n",
    "print(response.text)"
   ]
  },
  {
   "cell_type": "code",
   "execution_count": 17,
   "metadata": {},
   "outputs": [
    {
     "name": "stdout",
     "output_type": "stream",
     "text": [
      "<?xml version=\"1.0\" encoding=\"utf-8\"?>\n",
      "<result xmlns=\"http://walkscore.com/2008/results\">\n",
      "    <status>1</status>\n",
      "\t\n",
      "    \n",
      "        <walkscore>37</walkscore>\n",
      "        <description>Car-Dependent</description>\n",
      "        <updated>2019-11-14 23:03:49.069632</updated>\n",
      "    \n",
      "\t<logo_url>https://cdn.walk.sc/images/api-logo.png</logo_url>\n",
      "\t<more_info_icon>https://cdn.walk.sc/images/api-more-info.gif</more_info_icon>\n",
      "\t<more_info_link>https://www.redfin.com/how-walk-score-works</more_info_link>\n",
      "\t<ws_link>https://www.walkscore.com/score/1/lat=39.82/lng=-105.01/?utm_source=yahoo.com&amp;utm_medium=ws_api&amp;utm_campaign=ws_api</ws_link>\n",
      "\t<help_link>https://www.redfin.com/how-walk-score-works</help_link>\n",
      "\t<snapped_lat>39.8205</snapped_lat>\n",
      "\t<snapped_lon>-105.0105</snapped_lon>\n",
      "</result>\n"
     ]
    }
   ],
   "source": [
    "import requests\n",
    "\n",
    "url = \"https://walk-score.p.rapidapi.com/score\"\n",
    "\n",
    "querystring = {\"lon\":\"-105.01\",\"lat\":\"39.82\",\"address\":\"1\",\"wsapikey\":\"b72221d8763203418d081f140357696e\"}\n",
    "\n",
    "headers = {\n",
    "    'x-rapidapi-host': \"walk-score.p.rapidapi.com\",\n",
    "    'x-rapidapi-key': \"01dfe27917msh29e7634d132b982p18044djsn63b3af634af6\"\n",
    "    }\n",
    "\n",
    "response = requests.request(\"GET\", url, headers=headers, params=querystring)\n",
    "\n",
    "print(response.text)"
   ]
  },
  {
   "cell_type": "code",
   "execution_count": 18,
   "metadata": {},
   "outputs": [
    {
     "name": "stdout",
     "output_type": "stream",
     "text": [
      "<?xml version=\"1.0\" encoding=\"utf-8\"?>\n",
      "<result xmlns=\"http://walkscore.com/2008/results\">\n",
      "    <status>1</status>\n",
      "\t\n",
      "    \n",
      "        <walkscore>66</walkscore>\n",
      "        <description>Somewhat Walkable</description>\n",
      "        <updated>2019-07-31 01:38:10.842470</updated>\n",
      "    \n",
      "\t<logo_url>https://cdn.walk.sc/images/api-logo.png</logo_url>\n",
      "\t<more_info_icon>https://cdn.walk.sc/images/api-more-info.gif</more_info_icon>\n",
      "\t<more_info_link>https://www.redfin.com/how-walk-score-works</more_info_link>\n",
      "\t<ws_link>https://www.walkscore.com/score/1/lat=39.71/lng=-105.09/?utm_source=yahoo.com&amp;utm_medium=ws_api&amp;utm_campaign=ws_api</ws_link>\n",
      "\t<help_link>https://www.redfin.com/how-walk-score-works</help_link>\n",
      "\t<snapped_lat>39.7095</snapped_lat>\n",
      "\t<snapped_lon>-105.0900</snapped_lon>\n",
      "</result>\n"
     ]
    }
   ],
   "source": [
    "import requests\n",
    "\n",
    "url = \"https://walk-score.p.rapidapi.com/score\"\n",
    "\n",
    "querystring = {\"lon\":\"-105.09\",\"lat\":\"39.71\",\"address\":\"1\",\"wsapikey\":\"b72221d8763203418d081f140357696e\"}\n",
    "\n",
    "headers = {\n",
    "    'x-rapidapi-host': \"walk-score.p.rapidapi.com\",\n",
    "    'x-rapidapi-key': \"01dfe27917msh29e7634d132b982p18044djsn63b3af634af6\"\n",
    "    }\n",
    "\n",
    "response = requests.request(\"GET\", url, headers=headers, params=querystring)\n",
    "\n",
    "print(response.text)"
   ]
  },
  {
   "cell_type": "code",
   "execution_count": 19,
   "metadata": {},
   "outputs": [
    {
     "name": "stdout",
     "output_type": "stream",
     "text": [
      "<?xml version=\"1.0\" encoding=\"utf-8\"?>\n",
      "<result xmlns=\"http://walkscore.com/2008/results\">\n",
      "    <status>1</status>\n",
      "\t\n",
      "    \n",
      "        <walkscore>38</walkscore>\n",
      "        <description>Car-Dependent</description>\n",
      "        <updated>2019-12-04 08:40:33.031727</updated>\n",
      "    \n",
      "\t<logo_url>https://cdn.walk.sc/images/api-logo.png</logo_url>\n",
      "\t<more_info_icon>https://cdn.walk.sc/images/api-more-info.gif</more_info_icon>\n",
      "\t<more_info_link>https://www.redfin.com/how-walk-score-works</more_info_link>\n",
      "\t<ws_link>https://www.walkscore.com/score/1/lat=39.67/lng=-105.09/?utm_source=yahoo.com&amp;utm_medium=ws_api&amp;utm_campaign=ws_api</ws_link>\n",
      "\t<help_link>https://www.redfin.com/how-walk-score-works</help_link>\n",
      "\t<snapped_lat>39.6705</snapped_lat>\n",
      "\t<snapped_lon>-105.0900</snapped_lon>\n",
      "</result>\n"
     ]
    }
   ],
   "source": [
    "import requests\n",
    "\n",
    "url = \"https://walk-score.p.rapidapi.com/score\"\n",
    "\n",
    "querystring = {\"lon\":\"-105.09\",\"lat\":\"39.67\",\"address\":\"1\",\"wsapikey\":\"b72221d8763203418d081f140357696e\"}\n",
    "\n",
    "headers = {\n",
    "    'x-rapidapi-host': \"walk-score.p.rapidapi.com\",\n",
    "    'x-rapidapi-key': \"01dfe27917msh29e7634d132b982p18044djsn63b3af634af6\"\n",
    "    }\n",
    "\n",
    "response = requests.request(\"GET\", url, headers=headers, params=querystring)\n",
    "\n",
    "print(response.text)"
   ]
  },
  {
   "cell_type": "code",
   "execution_count": 20,
   "metadata": {},
   "outputs": [
    {
     "name": "stdout",
     "output_type": "stream",
     "text": [
      "<?xml version=\"1.0\" encoding=\"utf-8\"?>\n",
      "<result xmlns=\"http://walkscore.com/2008/results\">\n",
      "    <status>1</status>\n",
      "\t\n",
      "    \n",
      "        <walkscore>2</walkscore>\n",
      "        <description>Car-Dependent</description>\n",
      "        <updated>2019-10-01 13:14:17.050700</updated>\n",
      "    \n",
      "\t<logo_url>https://cdn.walk.sc/images/api-logo.png</logo_url>\n",
      "\t<more_info_icon>https://cdn.walk.sc/images/api-more-info.gif</more_info_icon>\n",
      "\t<more_info_link>https://www.redfin.com/how-walk-score-works</more_info_link>\n",
      "\t<ws_link>https://www.walkscore.com/score/1/lat=39.69/lng=-105.17/?utm_source=yahoo.com&amp;utm_medium=ws_api&amp;utm_campaign=ws_api</ws_link>\n",
      "\t<help_link>https://www.redfin.com/how-walk-score-works</help_link>\n",
      "\t<snapped_lat>39.6900</snapped_lat>\n",
      "\t<snapped_lon>-105.1695</snapped_lon>\n",
      "</result>\n"
     ]
    }
   ],
   "source": [
    "import requests\n",
    "\n",
    "url = \"https://walk-score.p.rapidapi.com/score\"\n",
    "\n",
    "querystring = {\"lon\":\"-105.17\",\"lat\":\"39.69\",\"address\":\"1\",\"wsapikey\":\"b72221d8763203418d081f140357696e\"}\n",
    "\n",
    "headers = {\n",
    "    'x-rapidapi-host': \"walk-score.p.rapidapi.com\",\n",
    "    'x-rapidapi-key': \"01dfe27917msh29e7634d132b982p18044djsn63b3af634af6\"\n",
    "    }\n",
    "\n",
    "response = requests.request(\"GET\", url, headers=headers, params=querystring)\n",
    "\n",
    "print(response.text)"
   ]
  },
  {
   "cell_type": "code",
   "execution_count": 21,
   "metadata": {},
   "outputs": [
    {
     "name": "stdout",
     "output_type": "stream",
     "text": [
      "<?xml version=\"1.0\" encoding=\"utf-8\"?>\n",
      "<result xmlns=\"http://walkscore.com/2008/results\">\n",
      "    <status>1</status>\n",
      "\t\n",
      "    \n",
      "        <walkscore>38</walkscore>\n",
      "        <description>Car-Dependent</description>\n",
      "        <updated>2019-12-04 08:40:33.031727</updated>\n",
      "    \n",
      "\t<logo_url>https://cdn.walk.sc/images/api-logo.png</logo_url>\n",
      "\t<more_info_icon>https://cdn.walk.sc/images/api-more-info.gif</more_info_icon>\n",
      "\t<more_info_link>https://www.redfin.com/how-walk-score-works</more_info_link>\n",
      "\t<ws_link>https://www.walkscore.com/score/1/lat=39.67/lng=-105.09/?utm_source=yahoo.com&amp;utm_medium=ws_api&amp;utm_campaign=ws_api</ws_link>\n",
      "\t<help_link>https://www.redfin.com/how-walk-score-works</help_link>\n",
      "\t<snapped_lat>39.6705</snapped_lat>\n",
      "\t<snapped_lon>-105.0900</snapped_lon>\n",
      "</result>\n"
     ]
    }
   ],
   "source": [
    "import requests\n",
    "\n",
    "url = \"https://walk-score.p.rapidapi.com/score\"\n",
    "\n",
    "querystring = {\"lon\":\"-105.09\",\"lat\":\"39.67\",\"address\":\"1\",\"wsapikey\":\"b72221d8763203418d081f140357696e\"}\n",
    "\n",
    "headers = {\n",
    "    'x-rapidapi-host': \"walk-score.p.rapidapi.com\",\n",
    "    'x-rapidapi-key': \"01dfe27917msh29e7634d132b982p18044djsn63b3af634af6\"\n",
    "    }\n",
    "\n",
    "response = requests.request(\"GET\", url, headers=headers, params=querystring)\n",
    "\n",
    "print(response.text)"
   ]
  },
  {
   "cell_type": "code",
   "execution_count": 22,
   "metadata": {},
   "outputs": [
    {
     "name": "stdout",
     "output_type": "stream",
     "text": [
      "<?xml version=\"1.0\" encoding=\"utf-8\"?>\n",
      "<result xmlns=\"http://walkscore.com/2008/results\">\n",
      "    <status>1</status>\n",
      "\t\n",
      "    \n",
      "        <walkscore>2</walkscore>\n",
      "        <description>Car-Dependent</description>\n",
      "        <updated>2019-10-01 13:14:17.050700</updated>\n",
      "    \n",
      "\t<logo_url>https://cdn.walk.sc/images/api-logo.png</logo_url>\n",
      "\t<more_info_icon>https://cdn.walk.sc/images/api-more-info.gif</more_info_icon>\n",
      "\t<more_info_link>https://www.redfin.com/how-walk-score-works</more_info_link>\n",
      "\t<ws_link>https://www.walkscore.com/score/1/lat=39.69/lng=-105.17/?utm_source=yahoo.com&amp;utm_medium=ws_api&amp;utm_campaign=ws_api</ws_link>\n",
      "\t<help_link>https://www.redfin.com/how-walk-score-works</help_link>\n",
      "\t<snapped_lat>39.6900</snapped_lat>\n",
      "\t<snapped_lon>-105.1695</snapped_lon>\n",
      "</result>\n"
     ]
    }
   ],
   "source": [
    "import requests\n",
    "\n",
    "url = \"https://walk-score.p.rapidapi.com/score\"\n",
    "\n",
    "querystring = {\"lon\":\"-105.17\",\"lat\":\"39.69\",\"address\":\"1\",\"wsapikey\":\"b72221d8763203418d081f140357696e\"}\n",
    "\n",
    "headers = {\n",
    "    'x-rapidapi-host': \"walk-score.p.rapidapi.com\",\n",
    "    'x-rapidapi-key': \"01dfe27917msh29e7634d132b982p18044djsn63b3af634af6\"\n",
    "    }\n",
    "\n",
    "response = requests.request(\"GET\", url, headers=headers, params=querystring)\n",
    "\n",
    "print(response.text)"
   ]
  },
  {
   "cell_type": "code",
   "execution_count": 23,
   "metadata": {},
   "outputs": [
    {
     "name": "stdout",
     "output_type": "stream",
     "text": [
      "<?xml version=\"1.0\" encoding=\"utf-8\"?>\n",
      "<result xmlns=\"http://walkscore.com/2008/results\">\n",
      "    <status>1</status>\n",
      "\t\n",
      "    \n",
      "        <walkscore>36</walkscore>\n",
      "        <description>Car-Dependent</description>\n",
      "        <updated>2019-10-09 01:58:58.801210</updated>\n",
      "    \n",
      "\t<logo_url>https://cdn.walk.sc/images/api-logo.png</logo_url>\n",
      "\t<more_info_icon>https://cdn.walk.sc/images/api-more-info.gif</more_info_icon>\n",
      "\t<more_info_link>https://www.redfin.com/how-walk-score-works</more_info_link>\n",
      "\t<ws_link>https://www.walkscore.com/score/1/lat=39.69/lng=-105.09/?utm_source=yahoo.com&amp;utm_medium=ws_api&amp;utm_campaign=ws_api</ws_link>\n",
      "\t<help_link>https://www.redfin.com/how-walk-score-works</help_link>\n",
      "\t<snapped_lat>39.6900</snapped_lat>\n",
      "\t<snapped_lon>-105.0900</snapped_lon>\n",
      "</result>\n"
     ]
    }
   ],
   "source": [
    "import requests\n",
    "\n",
    "url = \"https://walk-score.p.rapidapi.com/score\"\n",
    "\n",
    "querystring = {\"lon\":\"-105.09\",\"lat\":\"39.69\",\"address\":\"1\",\"wsapikey\":\"b72221d8763203418d081f140357696e\"}\n",
    "\n",
    "headers = {\n",
    "    'x-rapidapi-host': \"walk-score.p.rapidapi.com\",\n",
    "    'x-rapidapi-key': \"01dfe27917msh29e7634d132b982p18044djsn63b3af634af6\"\n",
    "    }\n",
    "\n",
    "response = requests.request(\"GET\", url, headers=headers, params=querystring)\n",
    "\n",
    "print(response.text)"
   ]
  },
  {
   "cell_type": "code",
   "execution_count": 24,
   "metadata": {},
   "outputs": [
    {
     "name": "stdout",
     "output_type": "stream",
     "text": [
      "<?xml version=\"1.0\" encoding=\"utf-8\"?>\n",
      "<result xmlns=\"http://walkscore.com/2008/results\">\n",
      "    <status>1</status>\n",
      "\t\n",
      "    \n",
      "        <walkscore>34</walkscore>\n",
      "        <description>Car-Dependent</description>\n",
      "        <updated>2019-12-19 18:41:40.890461</updated>\n",
      "    \n",
      "\t<logo_url>https://cdn.walk.sc/images/api-logo.png</logo_url>\n",
      "\t<more_info_icon>https://cdn.walk.sc/images/api-more-info.gif</more_info_icon>\n",
      "\t<more_info_link>https://www.redfin.com/how-walk-score-works</more_info_link>\n",
      "\t<ws_link>https://www.walkscore.com/score/1/lat=39.65/lng=-105.04/?utm_source=yahoo.com&amp;utm_medium=ws_api&amp;utm_campaign=ws_api</ws_link>\n",
      "\t<help_link>https://www.redfin.com/how-walk-score-works</help_link>\n",
      "\t<snapped_lat>39.6495</snapped_lat>\n",
      "\t<snapped_lon>-105.0405</snapped_lon>\n",
      "</result>\n"
     ]
    }
   ],
   "source": [
    "import requests\n",
    "\n",
    "url = \"https://walk-score.p.rapidapi.com/score\"\n",
    "\n",
    "querystring = {\"lon\":\"-105.04\",\"lat\":\"39.65\",\"address\":\"1\",\"wsapikey\":\"b72221d8763203418d081f140357696e\"}\n",
    "\n",
    "headers = {\n",
    "    'x-rapidapi-host': \"walk-score.p.rapidapi.com\",\n",
    "    'x-rapidapi-key': \"01dfe27917msh29e7634d132b982p18044djsn63b3af634af6\"\n",
    "    }\n",
    "\n",
    "response = requests.request(\"GET\", url, headers=headers, params=querystring)\n",
    "\n",
    "print(response.text)"
   ]
  },
  {
   "cell_type": "code",
   "execution_count": 25,
   "metadata": {},
   "outputs": [
    {
     "name": "stdout",
     "output_type": "stream",
     "text": [
      "<?xml version=\"1.0\" encoding=\"utf-8\"?>\n",
      "<result xmlns=\"http://walkscore.com/2008/results\">\n",
      "    <status>1</status>\n",
      "\t\n",
      "    \n",
      "        <walkscore>38</walkscore>\n",
      "        <description>Car-Dependent</description>\n",
      "        <updated>2020-01-22 13:29:59.438615</updated>\n",
      "    \n",
      "\t<logo_url>https://cdn.walk.sc/images/api-logo.png</logo_url>\n",
      "\t<more_info_icon>https://cdn.walk.sc/images/api-more-info.gif</more_info_icon>\n",
      "\t<more_info_link>https://www.redfin.com/how-walk-score-works</more_info_link>\n",
      "\t<ws_link>https://www.walkscore.com/score/1/lat=39.73/lng=-105.21/?utm_source=yahoo.com&amp;utm_medium=ws_api&amp;utm_campaign=ws_api</ws_link>\n",
      "\t<help_link>https://www.redfin.com/how-walk-score-works</help_link>\n",
      "\t<snapped_lat>39.7305</snapped_lat>\n",
      "\t<snapped_lon>-105.2100</snapped_lon>\n",
      "</result>\n"
     ]
    }
   ],
   "source": [
    "import requests\n",
    "\n",
    "url = \"https://walk-score.p.rapidapi.com/score\"\n",
    "\n",
    "querystring = {\"lon\":\"-105.21\",\"lat\":\"39.73\",\"address\":\"1\",\"wsapikey\":\"b72221d8763203418d081f140357696e\"}\n",
    "\n",
    "headers = {\n",
    "    'x-rapidapi-host': \"walk-score.p.rapidapi.com\",\n",
    "    'x-rapidapi-key': \"01dfe27917msh29e7634d132b982p18044djsn63b3af634af6\"\n",
    "    }\n",
    "\n",
    "response = requests.request(\"GET\", url, headers=headers, params=querystring)\n",
    "\n",
    "print(response.text)"
   ]
  },
  {
   "cell_type": "code",
   "execution_count": 26,
   "metadata": {},
   "outputs": [
    {
     "name": "stdout",
     "output_type": "stream",
     "text": [
      "<?xml version=\"1.0\" encoding=\"utf-8\"?>\n",
      "<result xmlns=\"http://walkscore.com/2008/results\">\n",
      "    <status>1</status>\n",
      "\t\n",
      "    \n",
      "        <walkscore>4</walkscore>\n",
      "        <description>Car-Dependent</description>\n",
      "        <updated>2019-08-18 16:42:28.280895</updated>\n",
      "    \n",
      "\t<logo_url>https://cdn.walk.sc/images/api-logo.png</logo_url>\n",
      "\t<more_info_icon>https://cdn.walk.sc/images/api-more-info.gif</more_info_icon>\n",
      "\t<more_info_link>https://www.redfin.com/how-walk-score-works</more_info_link>\n",
      "\t<ws_link>https://www.walkscore.com/score/1/lat=39.62/lng=-105.23/?utm_source=yahoo.com&amp;utm_medium=ws_api&amp;utm_campaign=ws_api</ws_link>\n",
      "\t<help_link>https://www.redfin.com/how-walk-score-works</help_link>\n",
      "\t<snapped_lat>39.6195</snapped_lat>\n",
      "\t<snapped_lon>-105.2295</snapped_lon>\n",
      "</result>\n"
     ]
    }
   ],
   "source": [
    "import requests\n",
    "\n",
    "url = \"https://walk-score.p.rapidapi.com/score\"\n",
    "\n",
    "querystring = {\"lon\":\"-105.23\",\"lat\":\"39.62\",\"address\":\"1\",\"wsapikey\":\"b72221d8763203418d081f140357696e\"}\n",
    "\n",
    "headers = {\n",
    "    'x-rapidapi-host': \"walk-score.p.rapidapi.com\",\n",
    "    'x-rapidapi-key': \"01dfe27917msh29e7634d132b982p18044djsn63b3af634af6\"\n",
    "    }\n",
    "\n",
    "response = requests.request(\"GET\", url, headers=headers, params=querystring)\n",
    "\n",
    "print(response.text)"
   ]
  },
  {
   "cell_type": "code",
   "execution_count": 27,
   "metadata": {},
   "outputs": [
    {
     "name": "stdout",
     "output_type": "stream",
     "text": [
      "<?xml version=\"1.0\" encoding=\"utf-8\"?>\n",
      "<result xmlns=\"http://walkscore.com/2008/results\">\n",
      "    <status>1</status>\n",
      "\t\n",
      "    \n",
      "        <walkscore>12</walkscore>\n",
      "        <description>Car-Dependent</description>\n",
      "        <updated>2019-11-24 21:05:26.218389</updated>\n",
      "    \n",
      "\t<logo_url>https://cdn.walk.sc/images/api-logo.png</logo_url>\n",
      "\t<more_info_icon>https://cdn.walk.sc/images/api-more-info.gif</more_info_icon>\n",
      "\t<more_info_link>https://www.redfin.com/how-walk-score-works</more_info_link>\n",
      "\t<ws_link>https://www.walkscore.com/score/loc/lat=39.65/lng=-105.18/?utm_source=yahoo.com&amp;utm_medium=ws_api&amp;utm_campaign=ws_api</ws_link>\n",
      "\t<help_link>https://www.redfin.com/how-walk-score-works</help_link>\n",
      "\t<snapped_lat>39.6495</snapped_lat>\n",
      "\t<snapped_lon>-105.1800</snapped_lon>\n",
      "</result>\n"
     ]
    }
   ],
   "source": [
    "import requests\n",
    "\n",
    "url = \"https://walk-score.p.rapidapi.com/score\"\n",
    "\n",
    "querystring = {\"lon\":\"-105.18\",\"lat\":\"39.65\",\"wsapikey\":\"b72221d8763203418d081f140357696e\"}\n",
    "\n",
    "headers = {\n",
    "    'x-rapidapi-host': \"walk-score.p.rapidapi.com\",\n",
    "    'x-rapidapi-key': \"01dfe27917msh29e7634d132b982p18044djsn63b3af634af6\"\n",
    "    }\n",
    "\n",
    "response = requests.request(\"GET\", url, headers=headers, params=querystring)\n",
    "\n",
    "print(response.text)"
   ]
  }
 ],
 "metadata": {
  "anaconda-cloud": {},
  "kernelspec": {
   "display_name": "Python 3",
   "language": "python",
   "name": "python3"
  },
  "language_info": {
   "codemirror_mode": {
    "name": "ipython",
    "version": 3
   },
   "file_extension": ".py",
   "mimetype": "text/x-python",
   "name": "python",
   "nbconvert_exporter": "python",
   "pygments_lexer": "ipython3",
   "version": "3.7.4"
  }
 },
 "nbformat": 4,
 "nbformat_minor": 2
}
