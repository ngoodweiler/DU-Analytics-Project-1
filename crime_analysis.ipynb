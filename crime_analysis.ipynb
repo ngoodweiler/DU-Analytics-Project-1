{
 "cells": [
  {
   "cell_type": "code",
   "execution_count": 1,
   "metadata": {},
   "outputs": [],
   "source": [
    "import pandas as pd\n",
    "import matplotlib.pyplot as plt\n",
    "import numpy as np\n",
    "from scipy.stats import linregress\n",
    "\n"
   ]
  },
  {
   "cell_type": "code",
   "execution_count": 2,
   "metadata": {},
   "outputs": [],
   "source": [
    "csv_path = 'Resources/crime_df.csv'\n",
    "crime_df = pd.read_csv(csv_path)"
   ]
  },
  {
   "cell_type": "code",
   "execution_count": 3,
   "metadata": {},
   "outputs": [
    {
     "data": {
      "text/html": [
       "<div>\n",
       "<style scoped>\n",
       "    .dataframe tbody tr th:only-of-type {\n",
       "        vertical-align: middle;\n",
       "    }\n",
       "\n",
       "    .dataframe tbody tr th {\n",
       "        vertical-align: top;\n",
       "    }\n",
       "\n",
       "    .dataframe thead th {\n",
       "        text-align: right;\n",
       "    }\n",
       "</style>\n",
       "<table border=\"1\" class=\"dataframe\">\n",
       "  <thead>\n",
       "    <tr style=\"text-align: right;\">\n",
       "      <th></th>\n",
       "      <th>Unnamed: 0</th>\n",
       "      <th>Offense Type</th>\n",
       "      <th>Offense Category</th>\n",
       "      <th>Reported Date</th>\n",
       "      <th>Zip Code</th>\n",
       "    </tr>\n",
       "  </thead>\n",
       "  <tbody>\n",
       "    <tr>\n",
       "      <td>0</td>\n",
       "      <td>0</td>\n",
       "      <td>weapon-unlawful-discharge-of</td>\n",
       "      <td>all-other-crimes</td>\n",
       "      <td>6/15/2016 11:31:00 PM</td>\n",
       "      <td>80239</td>\n",
       "    </tr>\n",
       "    <tr>\n",
       "      <td>1</td>\n",
       "      <td>1</td>\n",
       "      <td>theft-other</td>\n",
       "      <td>larceny</td>\n",
       "      <td>1/29/2018 5:53:00 PM</td>\n",
       "      <td>80239</td>\n",
       "    </tr>\n",
       "    <tr>\n",
       "      <td>2</td>\n",
       "      <td>2</td>\n",
       "      <td>theft-items-from-vehicle</td>\n",
       "      <td>theft-from-motor-vehicle</td>\n",
       "      <td>4/26/2016 9:02:00 PM</td>\n",
       "      <td>80210</td>\n",
       "    </tr>\n",
       "    <tr>\n",
       "      <td>3</td>\n",
       "      <td>3</td>\n",
       "      <td>theft-other</td>\n",
       "      <td>larceny</td>\n",
       "      <td>1/30/2018 10:29:00 PM</td>\n",
       "      <td>80246</td>\n",
       "    </tr>\n",
       "    <tr>\n",
       "      <td>4</td>\n",
       "      <td>4</td>\n",
       "      <td>theft-shoplift</td>\n",
       "      <td>larceny</td>\n",
       "      <td>6/23/2017 4:09:00 PM</td>\n",
       "      <td>80206</td>\n",
       "    </tr>\n",
       "  </tbody>\n",
       "</table>\n",
       "</div>"
      ],
      "text/plain": [
       "   Unnamed: 0                  Offense Type          Offense Category  \\\n",
       "0           0  weapon-unlawful-discharge-of          all-other-crimes   \n",
       "1           1                   theft-other                   larceny   \n",
       "2           2      theft-items-from-vehicle  theft-from-motor-vehicle   \n",
       "3           3                   theft-other                   larceny   \n",
       "4           4                theft-shoplift                   larceny   \n",
       "\n",
       "           Reported Date Zip Code  \n",
       "0  6/15/2016 11:31:00 PM    80239  \n",
       "1   1/29/2018 5:53:00 PM    80239  \n",
       "2   4/26/2016 9:02:00 PM    80210  \n",
       "3  1/30/2018 10:29:00 PM    80246  \n",
       "4   6/23/2017 4:09:00 PM    80206  "
      ]
     },
     "execution_count": 3,
     "metadata": {},
     "output_type": "execute_result"
    }
   ],
   "source": [
    "crime_df.head()"
   ]
  },
  {
   "cell_type": "code",
   "execution_count": 4,
   "metadata": {},
   "outputs": [
    {
     "data": {
      "text/plain": [
       "array(['all-other-crimes', 'larceny', 'theft-from-motor-vehicle',\n",
       "       'drug-alcohol', 'auto-theft', 'white-collar-crime', 'burglary',\n",
       "       'public-disorder', 'aggravated-assault',\n",
       "       'other-crimes-against-persons', 'robbery', 'sexual-assault',\n",
       "       'murder', 'arson'], dtype=object)"
      ]
     },
     "execution_count": 4,
     "metadata": {},
     "output_type": "execute_result"
    }
   ],
   "source": [
    "crime_df['Offense Category'].unique()"
   ]
  },
  {
   "cell_type": "code",
   "execution_count": 5,
   "metadata": {},
   "outputs": [],
   "source": [
    "violent = \"\"\n",
    "crime_df['Violent'] = violent"
   ]
  },
  {
   "cell_type": "code",
   "execution_count": 6,
   "metadata": {},
   "outputs": [
    {
     "data": {
      "text/plain": [
       "340932"
      ]
     },
     "execution_count": 6,
     "metadata": {},
     "output_type": "execute_result"
    }
   ],
   "source": [
    "len(crime_df['Offense Category'])"
   ]
  },
  {
   "cell_type": "code",
   "execution_count": 7,
   "metadata": {},
   "outputs": [],
   "source": [
    "# for i, row in crime_df.iterrows():\n",
    "#     if crime_df.loc[(crime_df['Offense Category'] == 'robbery'),:]\n",
    "#         row['Violent'] = 1\n",
    "#     elif crime_df.loc[(crime_df['Offense Category'] == 'sexual-assault'),:]\n",
    "#         row['Violent'] = 1\n",
    "#     elif crime_df.loc[(crime_df['Offense Category'] == 'aggravated-assault'),:]\n",
    "#         row['Violent'] = 1\n",
    "#     elif crime_df.loc[(crime_df['Offense Category'] == 'murder'),:]\n",
    "#         row['Violent'] = 1\n",
    "#     elif crime_df.loc[(crime_df['Offense Category'] == 'arson'),:]\n",
    "#         row['Violent'] = 1\n",
    "#     else\n",
    "#         row['Violent'] = 0"
   ]
  },
  {
   "cell_type": "code",
   "execution_count": 9,
   "metadata": {},
   "outputs": [
    {
     "data": {
      "text/html": [
       "<div>\n",
       "<style scoped>\n",
       "    .dataframe tbody tr th:only-of-type {\n",
       "        vertical-align: middle;\n",
       "    }\n",
       "\n",
       "    .dataframe tbody tr th {\n",
       "        vertical-align: top;\n",
       "    }\n",
       "\n",
       "    .dataframe thead th {\n",
       "        text-align: right;\n",
       "    }\n",
       "</style>\n",
       "<table border=\"1\" class=\"dataframe\">\n",
       "  <thead>\n",
       "    <tr style=\"text-align: right;\">\n",
       "      <th></th>\n",
       "      <th>Unnamed: 0</th>\n",
       "      <th>Offense Type</th>\n",
       "      <th>Offense Category</th>\n",
       "      <th>Reported Date</th>\n",
       "      <th>Zip Code</th>\n",
       "      <th>Violent</th>\n",
       "    </tr>\n",
       "  </thead>\n",
       "  <tbody>\n",
       "    <tr>\n",
       "      <td>0</td>\n",
       "      <td>0</td>\n",
       "      <td>weapon-unlawful-discharge-of</td>\n",
       "      <td>all-other-crimes</td>\n",
       "      <td>6/15/2016 11:31:00 PM</td>\n",
       "      <td>80239</td>\n",
       "      <td></td>\n",
       "    </tr>\n",
       "    <tr>\n",
       "      <td>1</td>\n",
       "      <td>1</td>\n",
       "      <td>theft-other</td>\n",
       "      <td>larceny</td>\n",
       "      <td>1/29/2018 5:53:00 PM</td>\n",
       "      <td>80239</td>\n",
       "      <td></td>\n",
       "    </tr>\n",
       "    <tr>\n",
       "      <td>2</td>\n",
       "      <td>2</td>\n",
       "      <td>theft-items-from-vehicle</td>\n",
       "      <td>theft-from-motor-vehicle</td>\n",
       "      <td>4/26/2016 9:02:00 PM</td>\n",
       "      <td>80210</td>\n",
       "      <td></td>\n",
       "    </tr>\n",
       "    <tr>\n",
       "      <td>3</td>\n",
       "      <td>3</td>\n",
       "      <td>theft-other</td>\n",
       "      <td>larceny</td>\n",
       "      <td>1/30/2018 10:29:00 PM</td>\n",
       "      <td>80246</td>\n",
       "      <td></td>\n",
       "    </tr>\n",
       "    <tr>\n",
       "      <td>4</td>\n",
       "      <td>4</td>\n",
       "      <td>theft-shoplift</td>\n",
       "      <td>larceny</td>\n",
       "      <td>6/23/2017 4:09:00 PM</td>\n",
       "      <td>80206</td>\n",
       "      <td></td>\n",
       "    </tr>\n",
       "  </tbody>\n",
       "</table>\n",
       "</div>"
      ],
      "text/plain": [
       "   Unnamed: 0                  Offense Type          Offense Category  \\\n",
       "0           0  weapon-unlawful-discharge-of          all-other-crimes   \n",
       "1           1                   theft-other                   larceny   \n",
       "2           2      theft-items-from-vehicle  theft-from-motor-vehicle   \n",
       "3           3                   theft-other                   larceny   \n",
       "4           4                theft-shoplift                   larceny   \n",
       "\n",
       "           Reported Date Zip Code Violent  \n",
       "0  6/15/2016 11:31:00 PM    80239          \n",
       "1   1/29/2018 5:53:00 PM    80239          \n",
       "2   4/26/2016 9:02:00 PM    80210          \n",
       "3  1/30/2018 10:29:00 PM    80246          \n",
       "4   6/23/2017 4:09:00 PM    80206          "
      ]
     },
     "execution_count": 9,
     "metadata": {},
     "output_type": "execute_result"
    }
   ],
   "source": [
    "crime_df.head()"
   ]
  },
  {
   "cell_type": "raw",
   "metadata": {},
   "source": []
  },
  {
   "cell_type": "code",
   "execution_count": null,
   "metadata": {},
   "outputs": [],
   "source": []
  }
 ],
 "metadata": {
  "kernelspec": {
   "display_name": "Python 3",
   "language": "python",
   "name": "python3"
  },
  "language_info": {
   "codemirror_mode": {
    "name": "ipython",
    "version": 3
   },
   "file_extension": ".py",
   "mimetype": "text/x-python",
   "name": "python",
   "nbconvert_exporter": "python",
   "pygments_lexer": "ipython3",
   "version": "3.7.4"
  }
 },
 "nbformat": 4,
 "nbformat_minor": 2
}
