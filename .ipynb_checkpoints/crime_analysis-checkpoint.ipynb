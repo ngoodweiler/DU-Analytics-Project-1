{
 "cells": [
  {
   "cell_type": "code",
   "execution_count": 66,
   "metadata": {},
   "outputs": [],
   "source": [
    "import pandas as pd\n",
    "import matplotlib.pyplot as plt\n",
    "import numpy as np\n",
    "from scipy.stats import linregress\n",
    "\n"
   ]
  },
  {
   "cell_type": "code",
   "execution_count": 70,
   "metadata": {},
   "outputs": [],
   "source": [
    "csv_path = 'Resources/crime_df.csv'\n",
    "crime_df = pd.read_csv(csv_path)\n",
    "crime_df[\"Zip Code\"] = crime_df['Zip Code'].astype(float)"
   ]
  },
  {
   "cell_type": "code",
   "execution_count": 92,
   "metadata": {},
   "outputs": [
    {
     "data": {
      "text/html": [
       "<div>\n",
       "<style scoped>\n",
       "    .dataframe tbody tr th:only-of-type {\n",
       "        vertical-align: middle;\n",
       "    }\n",
       "\n",
       "    .dataframe tbody tr th {\n",
       "        vertical-align: top;\n",
       "    }\n",
       "\n",
       "    .dataframe thead th {\n",
       "        text-align: right;\n",
       "    }\n",
       "</style>\n",
       "<table border=\"1\" class=\"dataframe\">\n",
       "  <thead>\n",
       "    <tr style=\"text-align: right;\">\n",
       "      <th></th>\n",
       "      <th>Unnamed: 0</th>\n",
       "      <th>Offense Type</th>\n",
       "      <th>Offense Category</th>\n",
       "      <th>Reported Date</th>\n",
       "      <th>Zip Code</th>\n",
       "    </tr>\n",
       "  </thead>\n",
       "  <tbody>\n",
       "    <tr>\n",
       "      <td>0</td>\n",
       "      <td>0</td>\n",
       "      <td>weapon-unlawful-discharge-of</td>\n",
       "      <td>all-other-crimes</td>\n",
       "      <td>6/15/2016 11:31:00 PM</td>\n",
       "      <td>80239.0</td>\n",
       "    </tr>\n",
       "    <tr>\n",
       "      <td>1</td>\n",
       "      <td>1</td>\n",
       "      <td>theft-other</td>\n",
       "      <td>larceny</td>\n",
       "      <td>1/29/2018 5:53:00 PM</td>\n",
       "      <td>80239.0</td>\n",
       "    </tr>\n",
       "    <tr>\n",
       "      <td>2</td>\n",
       "      <td>2</td>\n",
       "      <td>theft-items-from-vehicle</td>\n",
       "      <td>theft-from-motor-vehicle</td>\n",
       "      <td>4/26/2016 9:02:00 PM</td>\n",
       "      <td>80210.0</td>\n",
       "    </tr>\n",
       "    <tr>\n",
       "      <td>3</td>\n",
       "      <td>3</td>\n",
       "      <td>theft-other</td>\n",
       "      <td>larceny</td>\n",
       "      <td>1/30/2018 10:29:00 PM</td>\n",
       "      <td>80246.0</td>\n",
       "    </tr>\n",
       "    <tr>\n",
       "      <td>4</td>\n",
       "      <td>4</td>\n",
       "      <td>theft-shoplift</td>\n",
       "      <td>larceny</td>\n",
       "      <td>6/23/2017 4:09:00 PM</td>\n",
       "      <td>80206.0</td>\n",
       "    </tr>\n",
       "  </tbody>\n",
       "</table>\n",
       "</div>"
      ],
      "text/plain": [
       "   Unnamed: 0                  Offense Type          Offense Category  \\\n",
       "0           0  weapon-unlawful-discharge-of          all-other-crimes   \n",
       "1           1                   theft-other                   larceny   \n",
       "2           2      theft-items-from-vehicle  theft-from-motor-vehicle   \n",
       "3           3                   theft-other                   larceny   \n",
       "4           4                theft-shoplift                   larceny   \n",
       "\n",
       "           Reported Date  Zip Code  \n",
       "0  6/15/2016 11:31:00 PM   80239.0  \n",
       "1   1/29/2018 5:53:00 PM   80239.0  \n",
       "2   4/26/2016 9:02:00 PM   80210.0  \n",
       "3  1/30/2018 10:29:00 PM   80246.0  \n",
       "4   6/23/2017 4:09:00 PM   80206.0  "
      ]
     },
     "execution_count": 92,
     "metadata": {},
     "output_type": "execute_result"
    }
   ],
   "source": [
    "crime_df.head()"
   ]
  },
  {
   "cell_type": "code",
   "execution_count": 93,
   "metadata": {},
   "outputs": [
    {
     "data": {
      "text/plain": [
       "[80002,\n",
       " 80003,\n",
       " 80004,\n",
       " 80005,\n",
       " 80031,\n",
       " 80033,\n",
       " 80110,\n",
       " 80123,\n",
       " 80127,\n",
       " 80128,\n",
       " 80204,\n",
       " 80211,\n",
       " 80212,\n",
       " 80214,\n",
       " 80215,\n",
       " 80219,\n",
       " 80221,\n",
       " 80226,\n",
       " 80227,\n",
       " 80228,\n",
       " 80232,\n",
       " 80236,\n",
       " 80401,\n",
       " 80454,\n",
       " 80465]"
      ]
     },
     "execution_count": 93,
     "metadata": {},
     "output_type": "execute_result"
    }
   ],
   "source": [
    "csv_zip = 'Resources/25 Final Zip Codes.csv'\n",
    "ziplist = pd.read_csv(csv_zip)\n",
    "\n",
    "ziplist1 = ziplist['zip'].tolist()\n",
    "ziplist1"
   ]
  },
  {
   "cell_type": "code",
   "execution_count": 94,
   "metadata": {},
   "outputs": [
    {
     "data": {
      "text/plain": [
       "array(['all-other-crimes', 'larceny', 'theft-from-motor-vehicle',\n",
       "       'drug-alcohol', 'auto-theft', 'white-collar-crime', 'burglary',\n",
       "       'public-disorder', 'aggravated-assault',\n",
       "       'other-crimes-against-persons', 'robbery', 'sexual-assault',\n",
       "       'murder', 'arson'], dtype=object)"
      ]
     },
     "execution_count": 94,
     "metadata": {},
     "output_type": "execute_result"
    }
   ],
   "source": [
    "crime_df['Offense Category'].unique()"
   ]
  },
  {
   "cell_type": "code",
   "execution_count": 106,
   "metadata": {},
   "outputs": [],
   "source": [
    "finalzip = [80401,80211,80002,80204,80212]\n",
    "# crime_filter = crime_df.loc[crime_df['Zip Code'].isin(finalzip)]\n",
    "# crime_filter = crime_filter.groupby('Zip Code')\n",
    "\n",
    "violent = crime_df.loc[(crime_df['Offense Category'] == 'aggravated assault')| (crime_df['Offense Category'] == 'murder')|\n",
    "                          (crime_df['Offense Category'] == 'robbery') | (crime_df['Offense Category'] == 'sexual-assault')|\n",
    "                          (crime_df['Offense Category'] == 'arson')]\n",
    "violent_filter = violent.loc[violent['Zip Code'].isin(finalzip)]\n",
    "violent_group = violent_filter.groupby('Zip Code').count()\n",
    "violent_group = violent_group.reset_index()"
   ]
  },
  {
   "cell_type": "code",
   "execution_count": 107,
   "metadata": {},
   "outputs": [],
   "source": [
    "violent_lib = {'Zip Code': violent_group['Zip Code'].tolist(), \"Violent Crimes 2016-2019\": violent_group['Reported Date'].tolist()}\n",
    "violent_crimes = pd.DataFrame(violent_lib)\n",
    "# violent_crimes.to_csv('Resources/violent_crime_final_zips.csv')"
   ]
  },
  {
   "cell_type": "code",
   "execution_count": 110,
   "metadata": {},
   "outputs": [],
   "source": [
    "nonviolent = crime_df.loc[(crime_df['Offense Category'] == 'all-other-crimes')|(crime_df['Offense Category'] == 'larceny')|\n",
    "                         (crime_df['Offense Category'] == 'theft-from-motor-vehicle')|(crime_df['Offense Category'] == 'auto-theft')|\n",
    "                         (crime_df['Offense Category'] == 'drug-alcohol')| (crime_df['Offense Category'] == 'white-collar-crime')|\n",
    "                         (crime_df['Offense Category'] == 'burglary')|(crime_df['Offense Category'] == 'public-disorder')|(crime_df['Offense Category'] == 'other-crimes-against-persons')]\n",
    "nonviolent_filter = nonviolent.loc[nonviolent['Zip Code'].isin(finalzip)]\n",
    "nonviolent_group = nonviolent_filter.groupby('Zip Code').count()\n",
    "nonviolent_group = nonviolent_group.reset_index()\n"
   ]
  },
  {
   "cell_type": "code",
   "execution_count": 112,
   "metadata": {},
   "outputs": [],
   "source": [
    "nonviolent_lib = {\"Zip Code\" : nonviolent_group['Zip Code'].tolist(), \"Violent Crimes 2016-2019\" : nonviolent_group['Reported Date'].tolist()}\n",
    "nonviolent_crimes = pd.DataFrame(nonviolent_lib)\n",
    "nonviolent_crimes.to_csv('Resources/nonviolent_crime_final_zips.csv')"
   ]
  },
  {
   "cell_type": "code",
   "execution_count": null,
   "metadata": {},
   "outputs": [],
   "source": []
  }
 ],
 "metadata": {
  "kernelspec": {
   "display_name": "Python 3",
   "language": "python",
   "name": "python3"
  },
  "language_info": {
   "codemirror_mode": {
    "name": "ipython",
    "version": 3
   },
   "file_extension": ".py",
   "mimetype": "text/x-python",
   "name": "python",
   "nbconvert_exporter": "python",
   "pygments_lexer": "ipython3",
   "version": "3.7.4"
  }
 },
 "nbformat": 4,
 "nbformat_minor": 2
}
