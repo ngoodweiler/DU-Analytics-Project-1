{
 "cells": [
  {
   "cell_type": "code",
   "execution_count": null,
   "metadata": {},
   "outputs": [],
   "source": [
    "vplot = violent.loc[violent['Zip Code'] == 80211]\n",
    "vplot = vplot.sort_values(by='Offense Type', ascending = False)\n",
    "\n",
    "vplot = vplot.groupby(['Offense Type'])['Zip Code'].count()\n",
    "vplot = vplot.reset_index()\n",
    "vplot = vplot.sort_values('Zip Code')\n",
    "vplot = vplot.set_index('Offense Type')"
   ]
  },
  {
   "cell_type": "code",
   "execution_count": null,
   "metadata": {},
   "outputs": [],
   "source": [
    "vplot.plot(kind='barh', use_index = True, legend = False, ax=ax)\n",
    "fig, ax = plt.subplots(figsize=(14,8))\n",
    "y_range=list(range(1,len(vplot.index)+1))\n",
    "# x_max = len(vplot['Zip Code'])\n",
    "plt.hlines(y=y_range, xmin=0, xmax=vplot['Zip Code'], color='coral', alpha=0.6, linewidth=7)\n",
    "\n",
    "plt.plot(vplot['Zip Code'], y_range, \"o\", markersize=10, color='crimson', alpha=0.8)\n",
    "\n",
    "ax.tick_params(axis='both', which='major', direction = \"out\", labelsize=14)\n",
    "plt.yticks(y_range, vplot.index)\n",
    "\n",
    "ax.set_xlabel('Number of Offenses 2016-2019')\n",
    "ax.set_xlabel('Number of Offenses', fontsize=17, fontweight='black', color = 'black')\n",
    "ax.set_title(\"Violent Crime in 80211 Zip Code 2016-2019\", fontsize = 20, fontweight = 'black', color = 'black')\n",
    "ax.spines['top'].set_color('none')\n",
    "ax.spines['right'].set_color('none')\n",
    "ax.spines['left'].set_smart_bounds(True)\n",
    "ax.spines['bottom'].set_smart_bounds(True)\n"
   ]
  }
 ],
 "metadata": {
  "kernelspec": {
   "display_name": "Python 3",
   "language": "python",
   "name": "python3"
  },
  "language_info": {
   "codemirror_mode": {
    "name": "ipython",
    "version": 3
   },
   "file_extension": ".py",
   "mimetype": "text/x-python",
   "name": "python",
   "nbconvert_exporter": "python",
   "pygments_lexer": "ipython3",
   "version": "3.7.4"
  }
 },
 "nbformat": 4,
 "nbformat_minor": 2
}
