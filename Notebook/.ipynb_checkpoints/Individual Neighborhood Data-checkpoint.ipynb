{
 "cells": [
  {
   "cell_type": "code",
   "execution_count": 1,
   "metadata": {},
   "outputs": [],
   "source": [
    "# Import Dependencies\n",
    "import requests\n",
    "import json\n",
    "import pandas as pd\n",
    "import matplotlib.pyplot as plt\n",
    "import numpy as np\n",
    "import scipy.stats as st\n",
    "import gmaps"
   ]
  },
  {
   "cell_type": "code",
   "execution_count": 3,
   "metadata": {},
   "outputs": [
    {
     "data": {
      "text/html": [
       "<div>\n",
       "<style scoped>\n",
       "    .dataframe tbody tr th:only-of-type {\n",
       "        vertical-align: middle;\n",
       "    }\n",
       "\n",
       "    .dataframe tbody tr th {\n",
       "        vertical-align: top;\n",
       "    }\n",
       "\n",
       "    .dataframe thead th {\n",
       "        text-align: right;\n",
       "    }\n",
       "</style>\n",
       "<table border=\"1\" class=\"dataframe\">\n",
       "  <thead>\n",
       "    <tr style=\"text-align: right;\">\n",
       "      <th></th>\n",
       "      <th>Unnamed: 0</th>\n",
       "      <th>Listing Type</th>\n",
       "      <th>Address</th>\n",
       "      <th>Prices</th>\n",
       "      <th>Lat</th>\n",
       "      <th>Lon</th>\n",
       "      <th>Zip</th>\n",
       "      <th>Sq Ft</th>\n",
       "      <th>Beds</th>\n",
       "      <th>Baths</th>\n",
       "      <th>Price per Square Foot</th>\n",
       "    </tr>\n",
       "  </thead>\n",
       "  <tbody>\n",
       "    <tr>\n",
       "      <td>0</td>\n",
       "      <td>4208</td>\n",
       "      <td>For Sale</td>\n",
       "      <td>14535 W 54th Ave in Sunny Crest Hills, Arvada,...</td>\n",
       "      <td>640000.0</td>\n",
       "      <td>39.794657</td>\n",
       "      <td>-105.162472</td>\n",
       "      <td>80002.0</td>\n",
       "      <td>3302.0</td>\n",
       "      <td>6.0</td>\n",
       "      <td>2</td>\n",
       "      <td>193.821926</td>\n",
       "    </tr>\n",
       "    <tr>\n",
       "      <td>1</td>\n",
       "      <td>4209</td>\n",
       "      <td>For Sale</td>\n",
       "      <td>5550 Garrison St in Arvada Plaza Area, Arvada,...</td>\n",
       "      <td>390000.0</td>\n",
       "      <td>39.796958</td>\n",
       "      <td>-105.100468</td>\n",
       "      <td>80002.0</td>\n",
       "      <td>1034.0</td>\n",
       "      <td>2.0</td>\n",
       "      <td>1</td>\n",
       "      <td>377.176015</td>\n",
       "    </tr>\n",
       "    <tr>\n",
       "      <td>2</td>\n",
       "      <td>4210</td>\n",
       "      <td>For Sale</td>\n",
       "      <td>5402 Carr St Apt 104, Arvada, 80002</td>\n",
       "      <td>250000.0</td>\n",
       "      <td>39.795016</td>\n",
       "      <td>-105.090533</td>\n",
       "      <td>80002.0</td>\n",
       "      <td>967.0</td>\n",
       "      <td>3.0</td>\n",
       "      <td>1</td>\n",
       "      <td>258.531541</td>\n",
       "    </tr>\n",
       "    <tr>\n",
       "      <td>3</td>\n",
       "      <td>4211</td>\n",
       "      <td>For Sale</td>\n",
       "      <td>5220 Dudley St, Arvada, 80002</td>\n",
       "      <td>360000.0</td>\n",
       "      <td>39.791813</td>\n",
       "      <td>-105.094585</td>\n",
       "      <td>80002.0</td>\n",
       "      <td>1217.0</td>\n",
       "      <td>3.0</td>\n",
       "      <td>2</td>\n",
       "      <td>295.809367</td>\n",
       "    </tr>\n",
       "    <tr>\n",
       "      <td>4</td>\n",
       "      <td>4212</td>\n",
       "      <td>For Sale</td>\n",
       "      <td>5544 Lewis St Unit 205 in Oberon West, Arvada,...</td>\n",
       "      <td>349900.0</td>\n",
       "      <td>39.797175</td>\n",
       "      <td>-105.115960</td>\n",
       "      <td>80002.0</td>\n",
       "      <td>1313.0</td>\n",
       "      <td>2.0</td>\n",
       "      <td>2</td>\n",
       "      <td>266.488957</td>\n",
       "    </tr>\n",
       "  </tbody>\n",
       "</table>\n",
       "</div>"
      ],
      "text/plain": [
       "   Unnamed: 0 Listing Type                                            Address  \\\n",
       "0        4208     For Sale  14535 W 54th Ave in Sunny Crest Hills, Arvada,...   \n",
       "1        4209     For Sale  5550 Garrison St in Arvada Plaza Area, Arvada,...   \n",
       "2        4210     For Sale                5402 Carr St Apt 104, Arvada, 80002   \n",
       "3        4211     For Sale                      5220 Dudley St, Arvada, 80002   \n",
       "4        4212     For Sale  5544 Lewis St Unit 205 in Oberon West, Arvada,...   \n",
       "\n",
       "     Prices        Lat         Lon      Zip   Sq Ft  Beds  Baths  \\\n",
       "0  640000.0  39.794657 -105.162472  80002.0  3302.0   6.0      2   \n",
       "1  390000.0  39.796958 -105.100468  80002.0  1034.0   2.0      1   \n",
       "2  250000.0  39.795016 -105.090533  80002.0   967.0   3.0      1   \n",
       "3  360000.0  39.791813 -105.094585  80002.0  1217.0   3.0      2   \n",
       "4  349900.0  39.797175 -105.115960  80002.0  1313.0   2.0      2   \n",
       "\n",
       "   Price per Square Foot  \n",
       "0             193.821926  \n",
       "1             377.176015  \n",
       "2             258.531541  \n",
       "3             295.809367  \n",
       "4             266.488957  "
      ]
     },
     "execution_count": 3,
     "metadata": {},
     "output_type": "execute_result"
    }
   ],
   "source": [
    "zipdata = pd.read_csv('../Resources/for_sale.csv')\n",
    "zipdata.head()"
   ]
  },
  {
   "cell_type": "code",
   "execution_count": 33,
   "metadata": {},
   "outputs": [],
   "source": [
    "finalzips = [80211,80002,80204,80212]\n",
    "finalzips\n",
    "fs_filter = zipdata.loc[zipdata['Zip'].isin(finalzips)]\n",
    "# fs_gb = fs_filter.groupby('Zip').count()\n",
    "# fs_gb\n",
    "# fs_filter.head()"
   ]
  },
  {
   "cell_type": "code",
   "execution_count": 34,
   "metadata": {},
   "outputs": [],
   "source": [
    "def for_sale_scatter(x):\n",
    "    houses = fs_filter.loc[fs_filter['Zip']==x]\n",
    "    plot = plt.scatter(houses['Sq Ft'],houses['Prices'])\n",
    "    return plot"
   ]
  },
  {
   "cell_type": "code",
   "execution_count": 36,
   "metadata": {},
   "outputs": [
    {
     "data": {
      "image/png": "[encoded data removed]",
      "text/plain": [
       "<Figure size 432x288 with 1 Axes>"
      ]
     },
     "metadata": {
      "needs_background": "light"
     },
     "output_type": "display_data"
    }
   ],
   "source": [
    "for i in finalzips:\n",
    "    for_sale_scatter(i)\n",
    "    "
   ]
  }
 ],
 "metadata": {
  "kernelspec": {
   "display_name": "Python 3",
   "language": "python",
   "name": "python3"
  },
  "language_info": {
   "codemirror_mode": {
    "name": "ipython",
    "version": 3
   },
   "file_extension": ".py",
   "mimetype": "text/x-python",
   "name": "python",
   "nbconvert_exporter": "python",
   "pygments_lexer": "ipython3",
   "version": "3.7.4"
  }
 },
 "nbformat": 4,
 "nbformat_minor": 2
}
