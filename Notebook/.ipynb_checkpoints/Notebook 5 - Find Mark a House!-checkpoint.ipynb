{
 "cells": [
  {
   "cell_type": "code",
   "execution_count": 2,
   "metadata": {},
   "outputs": [],
   "source": [
    "# Import Dependencies\n",
    "import requests\n",
    "import json\n",
    "import pandas as pd\n",
    "import matplotlib.pyplot as plt\n",
    "import numpy as np\n",
    "import scipy.stats as st\n",
    "import gmaps\n",
    "# Install plotly using:\n",
    "# pip install plotly --upgrade\n",
    "import plotly.express as px"
   ]
  },
  {
   "cell_type": "code",
   "execution_count": 148,
   "metadata": {},
   "outputs": [
    {
     "data": {
      "text/html": [
       "<div>\n",
       "<style scoped>\n",
       "    .dataframe tbody tr th:only-of-type {\n",
       "        vertical-align: middle;\n",
       "    }\n",
       "\n",
       "    .dataframe tbody tr th {\n",
       "        vertical-align: top;\n",
       "    }\n",
       "\n",
       "    .dataframe thead th {\n",
       "        text-align: right;\n",
       "    }\n",
       "</style>\n",
       "<table border=\"1\" class=\"dataframe\">\n",
       "  <thead>\n",
       "    <tr style=\"text-align: right;\">\n",
       "      <th></th>\n",
       "      <th>Unnamed: 0</th>\n",
       "      <th>Listing Type</th>\n",
       "      <th>Address</th>\n",
       "      <th>Home Price</th>\n",
       "      <th>Lat</th>\n",
       "      <th>Lon</th>\n",
       "      <th>Zip</th>\n",
       "      <th>Sq Ft</th>\n",
       "      <th>Beds</th>\n",
       "      <th>Baths</th>\n",
       "      <th>Price per Square Foot</th>\n",
       "    </tr>\n",
       "  </thead>\n",
       "  <tbody>\n",
       "    <tr>\n",
       "      <td>0</td>\n",
       "      <td>4208</td>\n",
       "      <td>For Sale</td>\n",
       "      <td>14535 W 54th Ave in Sunny Crest Hills, Arvada,...</td>\n",
       "      <td>640000.0</td>\n",
       "      <td>39.794657</td>\n",
       "      <td>-105.162472</td>\n",
       "      <td>80002.0</td>\n",
       "      <td>3302.0</td>\n",
       "      <td>6.0</td>\n",
       "      <td>2</td>\n",
       "      <td>193.82</td>\n",
       "    </tr>\n",
       "    <tr>\n",
       "      <td>1</td>\n",
       "      <td>4209</td>\n",
       "      <td>For Sale</td>\n",
       "      <td>5550 Garrison St in Arvada Plaza Area, Arvada,...</td>\n",
       "      <td>390000.0</td>\n",
       "      <td>39.796958</td>\n",
       "      <td>-105.100468</td>\n",
       "      <td>80002.0</td>\n",
       "      <td>1034.0</td>\n",
       "      <td>2.0</td>\n",
       "      <td>1</td>\n",
       "      <td>377.18</td>\n",
       "    </tr>\n",
       "    <tr>\n",
       "      <td>2</td>\n",
       "      <td>4210</td>\n",
       "      <td>For Sale</td>\n",
       "      <td>5402 Carr St Apt 104, Arvada, 80002</td>\n",
       "      <td>250000.0</td>\n",
       "      <td>39.795016</td>\n",
       "      <td>-105.090533</td>\n",
       "      <td>80002.0</td>\n",
       "      <td>967.0</td>\n",
       "      <td>3.0</td>\n",
       "      <td>1</td>\n",
       "      <td>258.53</td>\n",
       "    </tr>\n",
       "    <tr>\n",
       "      <td>3</td>\n",
       "      <td>4211</td>\n",
       "      <td>For Sale</td>\n",
       "      <td>5220 Dudley St, Arvada, 80002</td>\n",
       "      <td>360000.0</td>\n",
       "      <td>39.791813</td>\n",
       "      <td>-105.094585</td>\n",
       "      <td>80002.0</td>\n",
       "      <td>1217.0</td>\n",
       "      <td>3.0</td>\n",
       "      <td>2</td>\n",
       "      <td>295.81</td>\n",
       "    </tr>\n",
       "    <tr>\n",
       "      <td>4</td>\n",
       "      <td>4212</td>\n",
       "      <td>For Sale</td>\n",
       "      <td>5544 Lewis St Unit 205 in Oberon West, Arvada,...</td>\n",
       "      <td>349900.0</td>\n",
       "      <td>39.797175</td>\n",
       "      <td>-105.115960</td>\n",
       "      <td>80002.0</td>\n",
       "      <td>1313.0</td>\n",
       "      <td>2.0</td>\n",
       "      <td>2</td>\n",
       "      <td>266.49</td>\n",
       "    </tr>\n",
       "  </tbody>\n",
       "</table>\n",
       "</div>"
      ],
      "text/plain": [
       "   Unnamed: 0 Listing Type                                            Address  \\\n",
       "0        4208     For Sale  14535 W 54th Ave in Sunny Crest Hills, Arvada,...   \n",
       "1        4209     For Sale  5550 Garrison St in Arvada Plaza Area, Arvada,...   \n",
       "2        4210     For Sale                5402 Carr St Apt 104, Arvada, 80002   \n",
       "3        4211     For Sale                      5220 Dudley St, Arvada, 80002   \n",
       "4        4212     For Sale  5544 Lewis St Unit 205 in Oberon West, Arvada,...   \n",
       "\n",
       "   Home Price        Lat         Lon      Zip   Sq Ft  Beds  Baths  \\\n",
       "0    640000.0  39.794657 -105.162472  80002.0  3302.0   6.0      2   \n",
       "1    390000.0  39.796958 -105.100468  80002.0  1034.0   2.0      1   \n",
       "2    250000.0  39.795016 -105.090533  80002.0   967.0   3.0      1   \n",
       "3    360000.0  39.791813 -105.094585  80002.0  1217.0   3.0      2   \n",
       "4    349900.0  39.797175 -105.115960  80002.0  1313.0   2.0      2   \n",
       "\n",
       "   Price per Square Foot  \n",
       "0                 193.82  \n",
       "1                 377.18  \n",
       "2                 258.53  \n",
       "3                 295.81  \n",
       "4                 266.49  "
      ]
     },
     "execution_count": 148,
     "metadata": {},
     "output_type": "execute_result"
    }
   ],
   "source": [
    "zipdata = pd.read_csv('../Resources/for_sale.csv')\n",
    "zipdata = zipdata.rename(columns={\"Prices\":\"Home Price\"})\n",
    "zipdata['Price per Square Foot'] = zipdata['Price per Square Foot'].round(2)\n",
    "zipdata['Home Price'] = zipdata['Home Price'].round(2)\n",
    "zipdata['Zip'] = zipdata['Zip'].round(0)\n",
    "zipdata.head()"
   ]
  },
  {
   "cell_type": "code",
   "execution_count": 149,
   "metadata": {},
   "outputs": [],
   "source": [
    "finalzips = [80211,80002,80204,80212]\n",
    "finalzips\n",
    "fs_filter = zipdata.loc[zipdata['Zip'].isin(finalzips)]\n",
    "# fs_gb = fs_filter.groupby('Zip').count()\n",
    "# fs_gb\n",
    "# fs_filter.head()"
   ]
  },
  {
   "cell_type": "code",
   "execution_count": 150,
   "metadata": {},
   "outputs": [],
   "source": [
    "# # ax = plt.subplot()\n",
    "# def for_sale_scatter():\n",
    "#     houses = fs_filter.loc[fs_filter['Zip']==x]\n",
    "#     houses = houses.loc[houses['Home Price']<=500000]\n",
    "#     labels = houses['Zip']\n",
    "#     plot = px.scatter(houses,x=houses['Sq Ft'],y=houses['Home Price'],title = x,hover_name = houses['Address'],size = houses['Price per Square Foot'])\n",
    "#     return plot.show()"
   ]
  },
  {
   "cell_type": "code",
   "execution_count": 140,
   "metadata": {
    "scrolled": false
   },
   "outputs": [],
   "source": [
    "# for_sale_scatter\n",
    "# for i in finalzips:\n",
    "#     for_sale_scatter(i)\n",
    "    "
   ]
  },
  {
   "cell_type": "code",
   "execution_count": 151,
   "metadata": {},
   "outputs": [
    {
     "data": {
      "application/vnd.plotly.v1+json": {
       "config": {
        "plotlyServerURL": "https://plot.ly"
       },
       "data": [
        {
         "hoverlabel": {
          "namelength": 0
         },
         "hovertemplate": "<b>%{hovertext}</b><br><br>Zip=80002.0<br>Sq Ft=%{x}<br>Home Price=%{y}<br>Price per Square Foot=%{marker.size}",
         "hovertext": [
          "5220 Dudley St, Arvada, 80002",
          "5544 Lewis St Unit 205 in Oberon West, Arvada, 80002",
          "5300 Beech St in Appleridge Estates, Arvada, 80002",
          "6935 W 55th Pl in Vetting, Arvada, 80002",
          "9139 W 50th Ln Unit 101 in Four Acre Lake Condominiums, Arvada, 80002",
          "9119 W 50th Ln Unit 3 in Four Acre Lake Condominiums, Arvada, 80002",
          "5465 Zephyr St Unit 203 in Water Tower Village Condominiums, Arvada, 80002",
          "7841 W 51st Ave Unit B, Arvada, 80002",
          "5615 Jellison St in Arvada Plaza Area, Arvada, 80002",
          "5355 Otis St in Columbine Acres, Arvada, 80002",
          "5722 Xenon Way in Candlelight, Arvada, 80002",
          "5435 Water Tower Promenade in Water Tower Village Condominiums, Arvada, 80002",
          "6302 W 52nd Ave, Arvada, 80002"
         ],
         "legendgroup": "",
         "marker": {
          "color": "#636efa",
          "size": [
           295.81,
           266.49,
           237.7,
           243.12,
           383.14,
           305.08,
           337.72,
           272.92,
           185.27,
           365.38,
           164.04,
           294.55,
           258.28
          ],
          "sizemode": "area",
          "sizeref": 1.3059749999999999,
          "symbol": "circle"
         },
         "mode": "markers",
         "name": "",
         "showlegend": false,
         "type": "scatter",
         "x": [
          1217,
          1313,
          1788,
          1563,
          1044,
          1180,
          1140,
          1795,
          2240,
          1040,
          3042,
          1358,
          1932
         ],
         "xaxis": "x",
         "y": [
          360000,
          349900,
          425000,
          379999,
          400000,
          360000,
          385000,
          489900,
          415000,
          380000,
          499000,
          399999,
          499000
         ],
         "yaxis": "y"
        },
        {
         "hoverlabel": {
          "namelength": 0
         },
         "hovertemplate": "<b>%{hovertext}</b><br><br>Zip=80204.0<br>Sq Ft=%{x}<br>Home Price=%{y}<br>Price per Square Foot=%{marker.size}",
         "hovertext": [
          "A Unit in Lincoln Park, Denver, 80204",
          "601 W 11th Ave Apt 611 in The New Parkway Condominiums, Denver, 80204",
          "3227 W 9th Ave in Villa Park, Denver, 80204",
          "1301 Speer Blvd Apt 1105 in Lincoln Park, Denver, 80204",
          "1398 Xavier St in West Denver, Denver, 80204",
          "70 W 6th Ave Unit 207 in Central Denver, Denver, 80204",
          "300 W 11th Ave Unit 7F in Downtown Denver, Denver, 80204",
          "421 Fox St in Central Denver, Denver, 80204",
          "1362 Yates St in West Denver, Denver, 80204",
          "930 Navajo St in Lincoln Park, Denver, 80204",
          "928 Navajo St in Lincoln Park, Denver, 80204",
          "1378 N Yates St in West Denver, Denver, 80204",
          "1374 N Yates St in West Denver, Denver, 80204",
          "485 Zenobia St in West Denver, Denver, 80204",
          "478 Raleigh St in West Denver, Denver, 80204",
          "300 W 11th Ave Unit 15E in Downtown Denver, Denver, 80204",
          "542 Kalamath St Unit 3 in Central Denver, Denver, 80204",
          "290 W 12th Ave Unit 403 in Downtown Denver, Denver, 80204",
          "1356 Knox Ct in West Denver, Denver, 80204",
          "470 Winona Ct in West Denver, Denver, 80204",
          "631 Meade St in Villa Park, Denver, 80204",
          "707 Quitman St Unit 709 in Villa Park, Denver, 80204",
          "1060 N Hooker St in Villa Park, Denver, 80204",
          "601 W 11th Ave Apt 409 in Lincoln Park, Denver, 80204",
          "1364 Yates St in West Denver, Denver, 80204",
          "1360 Yates St in West Denver, Denver, 80204",
          "1640 Julian St Unit 5 in West Denver, Denver, 80204",
          "542 Kalamath St Unit 9 in Central Denver, Denver, 80204",
          "1320 Perry St in West Denver, Denver, 80204",
          "1644 Julian St Unit 4 in West Denver, Denver, 80204",
          "1826 Irving St Unit 3 in West Denver, Denver, 80204",
          "756 Kalamath St in Lincoln Park, Denver, 80204",
          "1338 Perry St in West Denver, Denver, 80204",
          "1360 Knox Ct in West Denver, Denver, 80204",
          "542 Kalamath St Unit 7 in Central Denver, Denver, 80204",
          "1480 Wolff St Apt 114 in West Denver, Denver, 80204",
          "1640 Julian St Unit 2 in West Denver, Denver, 80204",
          "542 Kalamath St Unit 1 in Central Denver, Denver, 80204",
          "1265 W 9th Ave Unit 51 in Lincoln Park, Denver, 80204",
          "1277 W 9th Ave Unit 57 in Lincoln Park, Denver, 80204",
          "1287 W 9th Ave Unit 55 in Lincoln Park, Denver, 80204",
          "1826 Irving St Unit 2 in West Denver, Denver, 80204",
          "1285 W 9th Ave Unit 56 in Lincoln Park, Denver, 80204"
         ],
         "legendgroup": "",
         "marker": {
          "color": "#636efa",
          "size": [
           326.77,
           397.48,
           275.75,
           386.29,
           253.88,
           306.94,
           407.87,
           316.42,
           374.82,
           332.24,
           324.74,
           405.36,
           380.99,
           255.43,
           232.13,
           401.29,
           364.19,
           309.28,
           346.07,
           160.59,
           426.45,
           291.7,
           398.72,
           391.64,
           374.82,
           382.93,
           328.95,
           367.18,
           401.05,
           348.68,
           359.11,
           319.69,
           348.33,
           357.88,
           371.78,
           352.11,
           328.95,
           352.07,
           290.48,
           290.48,
           201.29,
           359.11,
           186.4
          ],
          "sizemode": "area",
          "sizeref": 1.3059749999999999,
          "symbol": "circle"
         },
         "mode": "markers",
         "name": "",
         "showlegend": false,
         "type": "scatter",
         "x": [
          1487,
          873,
          1505,
          919,
          1418,
          1254,
          1042,
          1577,
          1227,
          1487,
          1487,
          1110,
          1181,
          1566,
          1852,
          1084,
          1304,
          1584,
          1400,
          2304,
          809,
          1457,
          1091,
          873,
          1227,
          1201,
          1520,
          1304,
          1047,
          1434,
          1306,
          1564,
          1318,
          1313,
          1304,
          1349,
          1520,
          1304,
          1487,
          1487,
          1377,
          1306,
          1487
         ],
         "xaxis": "x2",
         "y": [
          485900,
          347000,
          415000,
          355000,
          360000,
          384900,
          425000,
          499000,
          459900,
          494035,
          482890,
          449950,
          449950,
          400000,
          429900,
          435000,
          474900,
          489900,
          484500,
          370000,
          345000,
          425000,
          435000,
          341900,
          459900,
          459900,
          500000,
          478800,
          419900,
          500000,
          469000,
          499999,
          459100,
          469900,
          484800,
          475000,
          500000,
          459100,
          431944,
          431944,
          277172,
          469000,
          277172
         ],
         "yaxis": "y2"
        },
        {
         "hoverlabel": {
          "namelength": 0
         },
         "hovertemplate": "<b>%{hovertext}</b><br><br>Zip=80211.0<br>Sq Ft=%{x}<br>Home Price=%{y}<br>Price per Square Foot=%{marker.size}",
         "hovertext": [
          "2195 Decatur St Unit 410 in Jefferson Park, Denver, 80211",
          "990 W 41st Ave Unit 217 in Northwest Denver, Denver, 80211",
          "4690 N Clay St in Northwest Denver, Denver, 80211",
          "3955 Inca St in Northwest Denver, Denver, 80211",
          "5060 N Stuart St in Northwest Denver, Denver, 80211",
          "4560 Pecos St in Northwest Denver, Denver, 80211",
          "2790 W 25th Ave Unit 4 in Northwest Denver, Denver, 80211",
          "3658 Jason St in Northwest Denver, Denver, 80211",
          "3735 Lowell Blvd in Northwest Denver, Denver, 80211",
          "2838 Decatur St in Northwest Denver, Denver, 80211",
          "2840 Decatur St in Northwest Denver, Denver, 80211",
          "1441 Central St Unit 201 in Northwest Denver, Denver, 80211",
          "3805 Newton St in Northwest Denver, Denver, 80211"
         ],
         "legendgroup": "",
         "marker": {
          "color": "#636efa",
          "size": [
           439.57,
           522.39,
           493.47,
           403.72,
           103.75,
           244.61,
           454.9,
           426,
           359.3,
           333.33,
           333.33,
           459.35,
           256.28
          ],
          "sizemode": "area",
          "sizeref": 1.3059749999999999,
          "symbol": "circle"
         },
         "mode": "markers",
         "name": "",
         "showlegend": false,
         "type": "scatter",
         "x": [
          1069,
          938,
          689,
          1236,
          4135,
          2040,
          1011,
          1054,
          1194,
          1155,
          1155,
          947,
          1951
         ],
         "xaxis": "x3",
         "y": [
          469900,
          490000,
          340000,
          499000,
          429000,
          499000,
          459900,
          449000,
          429000,
          385000,
          385000,
          435000,
          500000
         ],
         "yaxis": "y3"
        },
        {
         "hoverlabel": {
          "namelength": 0
         },
         "hovertemplate": "<b>%{hovertext}</b><br><br>Zip=80212.0<br>Sq Ft=%{x}<br>Home Price=%{y}<br>Price per Square Foot=%{marker.size}",
         "hovertext": [
          "4146 Ames St in Berkeley in Jefferson, Denver, 80212",
          "1630 Highway 9, Canon City, 80212",
          "5750 W 32nd Ave in Olinger Gardens, Wheat Ridge, 80212",
          "4310 Ames St in Berkeley in Jefferson, Denver, 80212",
          "4320 N Tennyson St Unit 6 in Northwest Denver, Denver, 80212",
          "4885 Fenton St in Northwest Denver, Denver, 80212",
          "4312 N Tennyson St Unit 6 in Northwest Denver, Denver, 80212",
          "4875 Sheridan Blvd in Northwest Denver, Denver, 80212",
          "4316 N Tennyson St Unit 6 in Northwest Denver, Denver, 80212",
          "5830 W 39th Pl, Wheat Ridge, 80212",
          "3595 Chase St, Wheat Ridge, 80212"
         ],
         "legendgroup": "",
         "marker": {
          "color": "#636efa",
          "size": [
           240.54,
           83.79,
           384.2,
           292.96,
           421.37,
           252.32,
           421.37,
           213.05,
           421.37,
           292.07,
           303.03
          ],
          "sizemode": "area",
          "sizeref": 1.3059749999999999,
          "symbol": "circle"
         },
         "mode": "markers",
         "name": "",
         "showlegend": false,
         "type": "scatter",
         "x": [
          1717,
          5120,
          1171,
          1604,
          1151,
          1940,
          1151,
          2206,
          1151,
          1626,
          1452
         ],
         "xaxis": "x4",
         "y": [
          413000,
          429000,
          449900,
          469900,
          485000,
          489500,
          485000,
          469999,
          485000,
          474900,
          440000
         ],
         "yaxis": "y4"
        }
       ],
       "layout": {
        "annotations": [
         {
          "font": {},
          "showarrow": false,
          "text": "Zip=80002.0",
          "x": 0.1175,
          "xanchor": "center",
          "xref": "paper",
          "y": 1,
          "yanchor": "bottom",
          "yref": "paper"
         },
         {
          "font": {},
          "showarrow": false,
          "text": "Zip=80204.0",
          "x": 0.3725,
          "xanchor": "center",
          "xref": "paper",
          "y": 1,
          "yanchor": "bottom",
          "yref": "paper"
         },
         {
          "font": {},
          "showarrow": false,
          "text": "Zip=80211.0",
          "x": 0.6275,
          "xanchor": "center",
          "xref": "paper",
          "y": 1,
          "yanchor": "bottom",
          "yref": "paper"
         },
         {
          "font": {},
          "showarrow": false,
          "text": "Zip=80212.0",
          "x": 0.8824999999999998,
          "xanchor": "center",
          "xref": "paper",
          "y": 1,
          "yanchor": "bottom",
          "yref": "paper"
         }
        ],
        "legend": {
         "itemsizing": "constant",
         "tracegroupgap": 0
        },
        "template": {
         "data": {
          "bar": [
           {
            "error_x": {
             "color": "#2a3f5f"
            },
            "error_y": {
             "color": "#2a3f5f"
            },
            "marker": {
             "line": {
              "color": "#E5ECF6",
              "width": 0.5
             }
            },
            "type": "bar"
           }
          ],
          "barpolar": [
           {
            "marker": {
             "line": {
              "color": "#E5ECF6",
              "width": 0.5
             }
            },
            "type": "barpolar"
           }
          ],
          "carpet": [
           {
            "aaxis": {
             "endlinecolor": "#2a3f5f",
             "gridcolor": "white",
             "linecolor": "white",
             "minorgridcolor": "white",
             "startlinecolor": "#2a3f5f"
            },
            "baxis": {
             "endlinecolor": "#2a3f5f",
             "gridcolor": "white",
             "linecolor": "white",
             "minorgridcolor": "white",
             "startlinecolor": "#2a3f5f"
            },
            "type": "carpet"
           }
          ],
          "choropleth": [
           {
            "colorbar": {
             "outlinewidth": 0,
             "ticks": ""
            },
            "type": "choropleth"
           }
          ],
          "contour": [
           {
            "colorbar": {
             "outlinewidth": 0,
             "ticks": ""
            },
            "colorscale": [
             [
              0,
              "#0d0887"
             ],
             [
              0.1111111111111111,
              "#46039f"
             ],
             [
              0.2222222222222222,
              "#7201a8"
             ],
             [
              0.3333333333333333,
              "#9c179e"
             ],
             [
              0.4444444444444444,
              "#bd3786"
             ],
             [
              0.5555555555555556,
              "#d8576b"
             ],
             [
              0.6666666666666666,
              "#ed7953"
             ],
             [
              0.7777777777777778,
              "#fb9f3a"
             ],
             [
              0.8888888888888888,
              "#fdca26"
             ],
             [
              1,
              "#f0f921"
             ]
            ],
            "type": "contour"
           }
          ],
          "contourcarpet": [
           {
            "colorbar": {
             "outlinewidth": 0,
             "ticks": ""
            },
            "type": "contourcarpet"
           }
          ],
          "heatmap": [
           {
            "colorbar": {
             "outlinewidth": 0,
             "ticks": ""
            },
            "colorscale": [
             [
              0,
              "#0d0887"
             ],
             [
              0.1111111111111111,
              "#46039f"
             ],
             [
              0.2222222222222222,
              "#7201a8"
             ],
             [
              0.3333333333333333,
              "#9c179e"
             ],
             [
              0.4444444444444444,
              "#bd3786"
             ],
             [
              0.5555555555555556,
              "#d8576b"
             ],
             [
              0.6666666666666666,
              "#ed7953"
             ],
             [
              0.7777777777777778,
              "#fb9f3a"
             ],
             [
              0.8888888888888888,
              "#fdca26"
             ],
             [
              1,
              "#f0f921"
             ]
            ],
            "type": "heatmap"
           }
          ],
          "heatmapgl": [
           {
            "colorbar": {
             "outlinewidth": 0,
             "ticks": ""
            },
            "colorscale": [
             [
              0,
              "#0d0887"
             ],
             [
              0.1111111111111111,
              "#46039f"
             ],
             [
              0.2222222222222222,
              "#7201a8"
             ],
             [
              0.3333333333333333,
              "#9c179e"
             ],
             [
              0.4444444444444444,
              "#bd3786"
             ],
             [
              0.5555555555555556,
              "#d8576b"
             ],
             [
              0.6666666666666666,
              "#ed7953"
             ],
             [
              0.7777777777777778,
              "#fb9f3a"
             ],
             [
              0.8888888888888888,
              "#fdca26"
             ],
             [
              1,
              "#f0f921"
             ]
            ],
            "type": "heatmapgl"
           }
          ],
          "histogram": [
           {
            "marker": {
             "colorbar": {
              "outlinewidth": 0,
              "ticks": ""
             }
            },
            "type": "histogram"
           }
          ],
          "histogram2d": [
           {
            "colorbar": {
             "outlinewidth": 0,
             "ticks": ""
            },
            "colorscale": [
             [
              0,
              "#0d0887"
             ],
             [
              0.1111111111111111,
              "#46039f"
             ],
             [
              0.2222222222222222,
              "#7201a8"
             ],
             [
              0.3333333333333333,
              "#9c179e"
             ],
             [
              0.4444444444444444,
              "#bd3786"
             ],
             [
              0.5555555555555556,
              "#d8576b"
             ],
             [
              0.6666666666666666,
              "#ed7953"
             ],
             [
              0.7777777777777778,
              "#fb9f3a"
             ],
             [
              0.8888888888888888,
              "#fdca26"
             ],
             [
              1,
              "#f0f921"
             ]
            ],
            "type": "histogram2d"
           }
          ],
          "histogram2dcontour": [
           {
            "colorbar": {
             "outlinewidth": 0,
             "ticks": ""
            },
            "colorscale": [
             [
              0,
              "#0d0887"
             ],
             [
              0.1111111111111111,
              "#46039f"
             ],
             [
              0.2222222222222222,
              "#7201a8"
             ],
             [
              0.3333333333333333,
              "#9c179e"
             ],
             [
              0.4444444444444444,
              "#bd3786"
             ],
             [
              0.5555555555555556,
              "#d8576b"
             ],
             [
              0.6666666666666666,
              "#ed7953"
             ],
             [
              0.7777777777777778,
              "#fb9f3a"
             ],
             [
              0.8888888888888888,
              "#fdca26"
             ],
             [
              1,
              "#f0f921"
             ]
            ],
            "type": "histogram2dcontour"
           }
          ],
          "mesh3d": [
           {
            "colorbar": {
             "outlinewidth": 0,
             "ticks": ""
            },
            "type": "mesh3d"
           }
          ],
          "parcoords": [
           {
            "line": {
             "colorbar": {
              "outlinewidth": 0,
              "ticks": ""
             }
            },
            "type": "parcoords"
           }
          ],
          "pie": [
           {
            "automargin": true,
            "type": "pie"
           }
          ],
          "scatter": [
           {
            "marker": {
             "colorbar": {
              "outlinewidth": 0,
              "ticks": ""
             }
            },
            "type": "scatter"
           }
          ],
          "scatter3d": [
           {
            "line": {
             "colorbar": {
              "outlinewidth": 0,
              "ticks": ""
             }
            },
            "marker": {
             "colorbar": {
              "outlinewidth": 0,
              "ticks": ""
             }
            },
            "type": "scatter3d"
           }
          ],
          "scattercarpet": [
           {
            "marker": {
             "colorbar": {
              "outlinewidth": 0,
              "ticks": ""
             }
            },
            "type": "scattercarpet"
           }
          ],
          "scattergeo": [
           {
            "marker": {
             "colorbar": {
              "outlinewidth": 0,
              "ticks": ""
             }
            },
            "type": "scattergeo"
           }
          ],
          "scattergl": [
           {
            "marker": {
             "colorbar": {
              "outlinewidth": 0,
              "ticks": ""
             }
            },
            "type": "scattergl"
           }
          ],
          "scattermapbox": [
           {
            "marker": {
             "colorbar": {
              "outlinewidth": 0,
              "ticks": ""
             }
            },
            "type": "scattermapbox"
           }
          ],
          "scatterpolar": [
           {
            "marker": {
             "colorbar": {
              "outlinewidth": 0,
              "ticks": ""
             }
            },
            "type": "scatterpolar"
           }
          ],
          "scatterpolargl": [
           {
            "marker": {
             "colorbar": {
              "outlinewidth": 0,
              "ticks": ""
             }
            },
            "type": "scatterpolargl"
           }
          ],
          "scatterternary": [
           {
            "marker": {
             "colorbar": {
              "outlinewidth": 0,
              "ticks": ""
             }
            },
            "type": "scatterternary"
           }
          ],
          "surface": [
           {
            "colorbar": {
             "outlinewidth": 0,
             "ticks": ""
            },
            "colorscale": [
             [
              0,
              "#0d0887"
             ],
             [
              0.1111111111111111,
              "#46039f"
             ],
             [
              0.2222222222222222,
              "#7201a8"
             ],
             [
              0.3333333333333333,
              "#9c179e"
             ],
             [
              0.4444444444444444,
              "#bd3786"
             ],
             [
              0.5555555555555556,
              "#d8576b"
             ],
             [
              0.6666666666666666,
              "#ed7953"
             ],
             [
              0.7777777777777778,
              "#fb9f3a"
             ],
             [
              0.8888888888888888,
              "#fdca26"
             ],
             [
              1,
              "#f0f921"
             ]
            ],
            "type": "surface"
           }
          ],
          "table": [
           {
            "cells": {
             "fill": {
              "color": "#EBF0F8"
             },
             "line": {
              "color": "white"
             }
            },
            "header": {
             "fill": {
              "color": "#C8D4E3"
             },
             "line": {
              "color": "white"
             }
            },
            "type": "table"
           }
          ]
         },
         "layout": {
          "annotationdefaults": {
           "arrowcolor": "#2a3f5f",
           "arrowhead": 0,
           "arrowwidth": 1
          },
          "coloraxis": {
           "colorbar": {
            "outlinewidth": 0,
            "ticks": ""
           }
          },
          "colorscale": {
           "diverging": [
            [
             0,
             "#8e0152"
            ],
            [
             0.1,
             "#c51b7d"
            ],
            [
             0.2,
             "#de77ae"
            ],
            [
             0.3,
             "#f1b6da"
            ],
            [
             0.4,
             "#fde0ef"
            ],
            [
             0.5,
             "#f7f7f7"
            ],
            [
             0.6,
             "#e6f5d0"
            ],
            [
             0.7,
             "#b8e186"
            ],
            [
             0.8,
             "#7fbc41"
            ],
            [
             0.9,
             "#4d9221"
            ],
            [
             1,
             "#276419"
            ]
           ],
           "sequential": [
            [
             0,
             "#0d0887"
            ],
            [
             0.1111111111111111,
             "#46039f"
            ],
            [
             0.2222222222222222,
             "#7201a8"
            ],
            [
             0.3333333333333333,
             "#9c179e"
            ],
            [
             0.4444444444444444,
             "#bd3786"
            ],
            [
             0.5555555555555556,
             "#d8576b"
            ],
            [
             0.6666666666666666,
             "#ed7953"
            ],
            [
             0.7777777777777778,
             "#fb9f3a"
            ],
            [
             0.8888888888888888,
             "#fdca26"
            ],
            [
             1,
             "#f0f921"
            ]
           ],
           "sequentialminus": [
            [
             0,
             "#0d0887"
            ],
            [
             0.1111111111111111,
             "#46039f"
            ],
            [
             0.2222222222222222,
             "#7201a8"
            ],
            [
             0.3333333333333333,
             "#9c179e"
            ],
            [
             0.4444444444444444,
             "#bd3786"
            ],
            [
             0.5555555555555556,
             "#d8576b"
            ],
            [
             0.6666666666666666,
             "#ed7953"
            ],
            [
             0.7777777777777778,
             "#fb9f3a"
            ],
            [
             0.8888888888888888,
             "#fdca26"
            ],
            [
             1,
             "#f0f921"
            ]
           ]
          },
          "colorway": [
           "#636efa",
           "#EF553B",
           "#00cc96",
           "#ab63fa",
           "#FFA15A",
           "#19d3f3",
           "#FF6692",
           "#B6E880",
           "#FF97FF",
           "#FECB52"
          ],
          "font": {
           "color": "#2a3f5f"
          },
          "geo": {
           "bgcolor": "white",
           "lakecolor": "white",
           "landcolor": "#E5ECF6",
           "showlakes": true,
           "showland": true,
           "subunitcolor": "white"
          },
          "hoverlabel": {
           "align": "left"
          },
          "hovermode": "closest",
          "mapbox": {
           "style": "light"
          },
          "paper_bgcolor": "white",
          "plot_bgcolor": "#E5ECF6",
          "polar": {
           "angularaxis": {
            "gridcolor": "white",
            "linecolor": "white",
            "ticks": ""
           },
           "bgcolor": "#E5ECF6",
           "radialaxis": {
            "gridcolor": "white",
            "linecolor": "white",
            "ticks": ""
           }
          },
          "scene": {
           "xaxis": {
            "backgroundcolor": "#E5ECF6",
            "gridcolor": "white",
            "gridwidth": 2,
            "linecolor": "white",
            "showbackground": true,
            "ticks": "",
            "zerolinecolor": "white"
           },
           "yaxis": {
            "backgroundcolor": "#E5ECF6",
            "gridcolor": "white",
            "gridwidth": 2,
            "linecolor": "white",
            "showbackground": true,
            "ticks": "",
            "zerolinecolor": "white"
           },
           "zaxis": {
            "backgroundcolor": "#E5ECF6",
            "gridcolor": "white",
            "gridwidth": 2,
            "linecolor": "white",
            "showbackground": true,
            "ticks": "",
            "zerolinecolor": "white"
           }
          },
          "shapedefaults": {
           "line": {
            "color": "#2a3f5f"
           }
          },
          "ternary": {
           "aaxis": {
            "gridcolor": "white",
            "linecolor": "white",
            "ticks": ""
           },
           "baxis": {
            "gridcolor": "white",
            "linecolor": "white",
            "ticks": ""
           },
           "bgcolor": "#E5ECF6",
           "caxis": {
            "gridcolor": "white",
            "linecolor": "white",
            "ticks": ""
           }
          },
          "title": {
           "x": 0.05
          },
          "xaxis": {
           "automargin": true,
           "gridcolor": "white",
           "linecolor": "white",
           "ticks": "",
           "title": {
            "standoff": 15
           },
           "zerolinecolor": "white",
           "zerolinewidth": 2
          },
          "yaxis": {
           "automargin": true,
           "gridcolor": "white",
           "linecolor": "white",
           "ticks": "",
           "title": {
            "standoff": 15
           },
           "zerolinecolor": "white",
           "zerolinewidth": 2
          }
         }
        },
        "title": {
         "text": "Find Mark a House!!"
        },
        "xaxis": {
         "anchor": "y",
         "domain": [
          0,
          0.235
         ],
         "title": {
          "text": "Sq Ft"
         }
        },
        "xaxis2": {
         "anchor": "y2",
         "domain": [
          0.255,
          0.49
         ],
         "matches": "x",
         "title": {
          "text": "Sq Ft"
         }
        },
        "xaxis3": {
         "anchor": "y3",
         "domain": [
          0.51,
          0.745
         ],
         "matches": "x",
         "title": {
          "text": "Sq Ft"
         }
        },
        "xaxis4": {
         "anchor": "y4",
         "domain": [
          0.7649999999999999,
          0.9999999999999999
         ],
         "matches": "x",
         "title": {
          "text": "Sq Ft"
         }
        },
        "yaxis": {
         "anchor": "x",
         "domain": [
          0,
          1
         ],
         "title": {
          "text": "Home Price"
         }
        },
        "yaxis2": {
         "anchor": "x2",
         "domain": [
          0,
          1
         ],
         "matches": "y",
         "showticklabels": false
        },
        "yaxis3": {
         "anchor": "x3",
         "domain": [
          0,
          1
         ],
         "matches": "y",
         "showticklabels": false
        },
        "yaxis4": {
         "anchor": "x4",
         "domain": [
          0,
          1
         ],
         "matches": "y",
         "showticklabels": false
        }
       }
      },
      "text/html": [
       "<div>\n",
       "        \n",
       "        \n",
       "            <div id=\"381a87db-9e4d-4b18-8f0f-8da81843e806\" class=\"plotly-graph-div\" style=\"height:525px; width:100%;\"></div>\n",
       "            <script type=\"text/javascript\">\n",
       "                require([\"plotly\"], function(Plotly) {\n",
       "                    window.PLOTLYENV=window.PLOTLYENV || {};\n",
       "                    \n",
       "                if (document.getElementById(\"381a87db-9e4d-4b18-8f0f-8da81843e806\")) {\n",
       "                    Plotly.newPlot(\n",
       "                        '381a87db-9e4d-4b18-8f0f-8da81843e806',\n",
       "                        [{\"hoverlabel\": {\"namelength\": 0}, \"hovertemplate\": \"<b>%{hovertext}</b><br><br>Zip=80002.0<br>Sq Ft=%{x}<br>Home Price=%{y}<br>Price per Square Foot=%{marker.size}\", \"hovertext\": [\"5220 Dudley St, Arvada, 80002\", \"5544 Lewis St Unit 205 in Oberon West, Arvada, 80002\", \"5300 Beech St in Appleridge Estates, Arvada, 80002\", \"6935 W 55th Pl in Vetting, Arvada, 80002\", \"9139 W 50th Ln Unit 101 in Four Acre Lake Condominiums, Arvada, 80002\", \"9119 W 50th Ln Unit 3 in Four Acre Lake Condominiums, Arvada, 80002\", \"5465 Zephyr St Unit 203 in Water Tower Village Condominiums, Arvada, 80002\", \"7841 W 51st Ave Unit B, Arvada, 80002\", \"5615 Jellison St in Arvada Plaza Area, Arvada, 80002\", \"5355 Otis St in Columbine Acres, Arvada, 80002\", \"5722 Xenon Way in Candlelight, Arvada, 80002\", \"5435 Water Tower Promenade in Water Tower Village Condominiums, Arvada, 80002\", \"6302 W 52nd Ave, Arvada, 80002\"], \"legendgroup\": \"\", \"marker\": {\"color\": \"#636efa\", \"size\": [295.81, 266.49, 237.7, 243.12, 383.14, 305.08, 337.72, 272.92, 185.27, 365.38, 164.04, 294.55, 258.28], \"sizemode\": \"area\", \"sizeref\": 1.3059749999999999, \"symbol\": \"circle\"}, \"mode\": \"markers\", \"name\": \"\", \"showlegend\": false, \"type\": \"scatter\", \"x\": [1217.0, 1313.0, 1788.0, 1563.0, 1044.0, 1180.0, 1140.0, 1795.0, 2240.0, 1040.0, 3042.0, 1358.0, 1932.0], \"xaxis\": \"x\", \"y\": [360000.0, 349900.0, 425000.0, 379999.0, 400000.0, 360000.0, 385000.0, 489900.0, 415000.0, 380000.0, 499000.0, 399999.0, 499000.0], \"yaxis\": \"y\"}, {\"hoverlabel\": {\"namelength\": 0}, \"hovertemplate\": \"<b>%{hovertext}</b><br><br>Zip=80204.0<br>Sq Ft=%{x}<br>Home Price=%{y}<br>Price per Square Foot=%{marker.size}\", \"hovertext\": [\"A Unit in Lincoln Park, Denver, 80204\", \"601 W 11th Ave Apt 611 in The New Parkway Condominiums, Denver, 80204\", \"3227 W 9th Ave in Villa Park, Denver, 80204\", \"1301 Speer Blvd Apt 1105 in Lincoln Park, Denver, 80204\", \"1398 Xavier St in West Denver, Denver, 80204\", \"70 W 6th Ave Unit 207 in Central Denver, Denver, 80204\", \"300 W 11th Ave Unit 7F in Downtown Denver, Denver, 80204\", \"421 Fox St in Central Denver, Denver, 80204\", \"1362 Yates St in West Denver, Denver, 80204\", \"930 Navajo St in Lincoln Park, Denver, 80204\", \"928 Navajo St in Lincoln Park, Denver, 80204\", \"1378 N Yates St in West Denver, Denver, 80204\", \"1374 N Yates St in West Denver, Denver, 80204\", \"485 Zenobia St in West Denver, Denver, 80204\", \"478 Raleigh St in West Denver, Denver, 80204\", \"300 W 11th Ave Unit 15E in Downtown Denver, Denver, 80204\", \"542 Kalamath St Unit 3 in Central Denver, Denver, 80204\", \"290 W 12th Ave Unit 403 in Downtown Denver, Denver, 80204\", \"1356 Knox Ct in West Denver, Denver, 80204\", \"470 Winona Ct in West Denver, Denver, 80204\", \"631 Meade St in Villa Park, Denver, 80204\", \"707 Quitman St Unit 709 in Villa Park, Denver, 80204\", \"1060 N Hooker St in Villa Park, Denver, 80204\", \"601 W 11th Ave Apt 409 in Lincoln Park, Denver, 80204\", \"1364 Yates St in West Denver, Denver, 80204\", \"1360 Yates St in West Denver, Denver, 80204\", \"1640 Julian St Unit 5 in West Denver, Denver, 80204\", \"542 Kalamath St Unit 9 in Central Denver, Denver, 80204\", \"1320 Perry St in West Denver, Denver, 80204\", \"1644 Julian St Unit 4 in West Denver, Denver, 80204\", \"1826 Irving St Unit 3 in West Denver, Denver, 80204\", \"756 Kalamath St in Lincoln Park, Denver, 80204\", \"1338 Perry St in West Denver, Denver, 80204\", \"1360 Knox Ct in West Denver, Denver, 80204\", \"542 Kalamath St Unit 7 in Central Denver, Denver, 80204\", \"1480 Wolff St Apt 114 in West Denver, Denver, 80204\", \"1640 Julian St Unit 2 in West Denver, Denver, 80204\", \"542 Kalamath St Unit 1 in Central Denver, Denver, 80204\", \"1265 W 9th Ave Unit 51 in Lincoln Park, Denver, 80204\", \"1277 W 9th Ave Unit 57 in Lincoln Park, Denver, 80204\", \"1287 W 9th Ave Unit 55 in Lincoln Park, Denver, 80204\", \"1826 Irving St Unit 2 in West Denver, Denver, 80204\", \"1285 W 9th Ave Unit 56 in Lincoln Park, Denver, 80204\"], \"legendgroup\": \"\", \"marker\": {\"color\": \"#636efa\", \"size\": [326.77, 397.48, 275.75, 386.29, 253.88, 306.94, 407.87, 316.42, 374.82, 332.24, 324.74, 405.36, 380.99, 255.43, 232.13, 401.29, 364.19, 309.28, 346.07, 160.59, 426.45, 291.7, 398.72, 391.64, 374.82, 382.93, 328.95, 367.18, 401.05, 348.68, 359.11, 319.69, 348.33, 357.88, 371.78, 352.11, 328.95, 352.07, 290.48, 290.48, 201.29, 359.11, 186.4], \"sizemode\": \"area\", \"sizeref\": 1.3059749999999999, \"symbol\": \"circle\"}, \"mode\": \"markers\", \"name\": \"\", \"showlegend\": false, \"type\": \"scatter\", \"x\": [1487.0, 873.0, 1505.0, 919.0, 1418.0, 1254.0, 1042.0, 1577.0, 1227.0, 1487.0, 1487.0, 1110.0, 1181.0, 1566.0, 1852.0, 1084.0, 1304.0, 1584.0, 1400.0, 2304.0, 809.0, 1457.0, 1091.0, 873.0, 1227.0, 1201.0, 1520.0, 1304.0, 1047.0, 1434.0, 1306.0, 1564.0, 1318.0, 1313.0, 1304.0, 1349.0, 1520.0, 1304.0, 1487.0, 1487.0, 1377.0, 1306.0, 1487.0], \"xaxis\": \"x2\", \"y\": [485900.0, 347000.0, 415000.0, 355000.0, 360000.0, 384900.0, 425000.0, 499000.0, 459900.0, 494035.0, 482890.0, 449950.0, 449950.0, 400000.0, 429900.0, 435000.0, 474900.0, 489900.0, 484500.0, 370000.0, 345000.0, 425000.0, 435000.0, 341900.0, 459900.0, 459900.0, 500000.0, 478800.0, 419900.0, 500000.0, 469000.0, 499999.0, 459100.0, 469900.0, 484800.0, 475000.0, 500000.0, 459100.0, 431944.0, 431944.0, 277172.0, 469000.0, 277172.0], \"yaxis\": \"y2\"}, {\"hoverlabel\": {\"namelength\": 0}, \"hovertemplate\": \"<b>%{hovertext}</b><br><br>Zip=80211.0<br>Sq Ft=%{x}<br>Home Price=%{y}<br>Price per Square Foot=%{marker.size}\", \"hovertext\": [\"2195 Decatur St Unit 410 in Jefferson Park, Denver, 80211\", \"990 W 41st Ave Unit 217 in Northwest Denver, Denver, 80211\", \"4690 N Clay St in Northwest Denver, Denver, 80211\", \"3955 Inca St in Northwest Denver, Denver, 80211\", \"5060 N Stuart St in Northwest Denver, Denver, 80211\", \"4560 Pecos St in Northwest Denver, Denver, 80211\", \"2790 W 25th Ave Unit 4 in Northwest Denver, Denver, 80211\", \"3658 Jason St in Northwest Denver, Denver, 80211\", \"3735 Lowell Blvd in Northwest Denver, Denver, 80211\", \"2838 Decatur St in Northwest Denver, Denver, 80211\", \"2840 Decatur St in Northwest Denver, Denver, 80211\", \"1441 Central St Unit 201 in Northwest Denver, Denver, 80211\", \"3805 Newton St in Northwest Denver, Denver, 80211\"], \"legendgroup\": \"\", \"marker\": {\"color\": \"#636efa\", \"size\": [439.57, 522.39, 493.47, 403.72, 103.75, 244.61, 454.9, 426.0, 359.3, 333.33, 333.33, 459.35, 256.28], \"sizemode\": \"area\", \"sizeref\": 1.3059749999999999, \"symbol\": \"circle\"}, \"mode\": \"markers\", \"name\": \"\", \"showlegend\": false, \"type\": \"scatter\", \"x\": [1069.0, 938.0, 689.0, 1236.0, 4135.0, 2040.0, 1011.0, 1054.0, 1194.0, 1155.0, 1155.0, 947.0, 1951.0], \"xaxis\": \"x3\", \"y\": [469900.0, 490000.0, 340000.0, 499000.0, 429000.0, 499000.0, 459900.0, 449000.0, 429000.0, 385000.0, 385000.0, 435000.0, 500000.0], \"yaxis\": \"y3\"}, {\"hoverlabel\": {\"namelength\": 0}, \"hovertemplate\": \"<b>%{hovertext}</b><br><br>Zip=80212.0<br>Sq Ft=%{x}<br>Home Price=%{y}<br>Price per Square Foot=%{marker.size}\", \"hovertext\": [\"4146 Ames St in Berkeley in Jefferson, Denver, 80212\", \"1630 Highway 9, Canon City, 80212\", \"5750 W 32nd Ave in Olinger Gardens, Wheat Ridge, 80212\", \"4310 Ames St in Berkeley in Jefferson, Denver, 80212\", \"4320 N Tennyson St Unit 6 in Northwest Denver, Denver, 80212\", \"4885 Fenton St in Northwest Denver, Denver, 80212\", \"4312 N Tennyson St Unit 6 in Northwest Denver, Denver, 80212\", \"4875 Sheridan Blvd in Northwest Denver, Denver, 80212\", \"4316 N Tennyson St Unit 6 in Northwest Denver, Denver, 80212\", \"5830 W 39th Pl, Wheat Ridge, 80212\", \"3595 Chase St, Wheat Ridge, 80212\"], \"legendgroup\": \"\", \"marker\": {\"color\": \"#636efa\", \"size\": [240.54, 83.79, 384.2, 292.96, 421.37, 252.32, 421.37, 213.05, 421.37, 292.07, 303.03], \"sizemode\": \"area\", \"sizeref\": 1.3059749999999999, \"symbol\": \"circle\"}, \"mode\": \"markers\", \"name\": \"\", \"showlegend\": false, \"type\": \"scatter\", \"x\": [1717.0, 5120.0, 1171.0, 1604.0, 1151.0, 1940.0, 1151.0, 2206.0, 1151.0, 1626.0, 1452.0], \"xaxis\": \"x4\", \"y\": [413000.0, 429000.0, 449900.0, 469900.0, 485000.0, 489500.0, 485000.0, 469999.0, 485000.0, 474900.0, 440000.0], \"yaxis\": \"y4\"}],\n",
       "                        {\"annotations\": [{\"font\": {}, \"showarrow\": false, \"text\": \"Zip=80002.0\", \"x\": 0.1175, \"xanchor\": \"center\", \"xref\": \"paper\", \"y\": 1.0, \"yanchor\": \"bottom\", \"yref\": \"paper\"}, {\"font\": {}, \"showarrow\": false, \"text\": \"Zip=80204.0\", \"x\": 0.3725, \"xanchor\": \"center\", \"xref\": \"paper\", \"y\": 1.0, \"yanchor\": \"bottom\", \"yref\": \"paper\"}, {\"font\": {}, \"showarrow\": false, \"text\": \"Zip=80211.0\", \"x\": 0.6275, \"xanchor\": \"center\", \"xref\": \"paper\", \"y\": 1.0, \"yanchor\": \"bottom\", \"yref\": \"paper\"}, {\"font\": {}, \"showarrow\": false, \"text\": \"Zip=80212.0\", \"x\": 0.8824999999999998, \"xanchor\": \"center\", \"xref\": \"paper\", \"y\": 1.0, \"yanchor\": \"bottom\", \"yref\": \"paper\"}], \"legend\": {\"itemsizing\": \"constant\", \"tracegroupgap\": 0}, \"template\": {\"data\": {\"bar\": [{\"error_x\": {\"color\": \"#2a3f5f\"}, \"error_y\": {\"color\": \"#2a3f5f\"}, \"marker\": {\"line\": {\"color\": \"#E5ECF6\", \"width\": 0.5}}, \"type\": \"bar\"}], \"barpolar\": [{\"marker\": {\"line\": {\"color\": \"#E5ECF6\", \"width\": 0.5}}, \"type\": \"barpolar\"}], \"carpet\": [{\"aaxis\": {\"endlinecolor\": \"#2a3f5f\", \"gridcolor\": \"white\", \"linecolor\": \"white\", \"minorgridcolor\": \"white\", \"startlinecolor\": \"#2a3f5f\"}, \"baxis\": {\"endlinecolor\": \"#2a3f5f\", \"gridcolor\": \"white\", \"linecolor\": \"white\", \"minorgridcolor\": \"white\", \"startlinecolor\": \"#2a3f5f\"}, \"type\": \"carpet\"}], \"choropleth\": [{\"colorbar\": {\"outlinewidth\": 0, \"ticks\": \"\"}, \"type\": \"choropleth\"}], \"contour\": [{\"colorbar\": {\"outlinewidth\": 0, \"ticks\": \"\"}, \"colorscale\": [[0.0, \"#0d0887\"], [0.1111111111111111, \"#46039f\"], [0.2222222222222222, \"#7201a8\"], [0.3333333333333333, \"#9c179e\"], [0.4444444444444444, \"#bd3786\"], [0.5555555555555556, \"#d8576b\"], [0.6666666666666666, \"#ed7953\"], [0.7777777777777778, \"#fb9f3a\"], [0.8888888888888888, \"#fdca26\"], [1.0, \"#f0f921\"]], \"type\": \"contour\"}], \"contourcarpet\": [{\"colorbar\": {\"outlinewidth\": 0, \"ticks\": \"\"}, \"type\": \"contourcarpet\"}], \"heatmap\": [{\"colorbar\": {\"outlinewidth\": 0, \"ticks\": \"\"}, \"colorscale\": [[0.0, \"#0d0887\"], [0.1111111111111111, \"#46039f\"], [0.2222222222222222, \"#7201a8\"], [0.3333333333333333, \"#9c179e\"], [0.4444444444444444, \"#bd3786\"], [0.5555555555555556, \"#d8576b\"], [0.6666666666666666, \"#ed7953\"], [0.7777777777777778, \"#fb9f3a\"], [0.8888888888888888, \"#fdca26\"], [1.0, \"#f0f921\"]], \"type\": \"heatmap\"}], \"heatmapgl\": [{\"colorbar\": {\"outlinewidth\": 0, \"ticks\": \"\"}, \"colorscale\": [[0.0, \"#0d0887\"], [0.1111111111111111, \"#46039f\"], [0.2222222222222222, \"#7201a8\"], [0.3333333333333333, \"#9c179e\"], [0.4444444444444444, \"#bd3786\"], [0.5555555555555556, \"#d8576b\"], [0.6666666666666666, \"#ed7953\"], [0.7777777777777778, \"#fb9f3a\"], [0.8888888888888888, \"#fdca26\"], [1.0, \"#f0f921\"]], \"type\": \"heatmapgl\"}], \"histogram\": [{\"marker\": {\"colorbar\": {\"outlinewidth\": 0, \"ticks\": \"\"}}, \"type\": \"histogram\"}], \"histogram2d\": [{\"colorbar\": {\"outlinewidth\": 0, \"ticks\": \"\"}, \"colorscale\": [[0.0, \"#0d0887\"], [0.1111111111111111, \"#46039f\"], [0.2222222222222222, \"#7201a8\"], [0.3333333333333333, \"#9c179e\"], [0.4444444444444444, \"#bd3786\"], [0.5555555555555556, \"#d8576b\"], [0.6666666666666666, \"#ed7953\"], [0.7777777777777778, \"#fb9f3a\"], [0.8888888888888888, \"#fdca26\"], [1.0, \"#f0f921\"]], \"type\": \"histogram2d\"}], \"histogram2dcontour\": [{\"colorbar\": {\"outlinewidth\": 0, \"ticks\": \"\"}, \"colorscale\": [[0.0, \"#0d0887\"], [0.1111111111111111, \"#46039f\"], [0.2222222222222222, \"#7201a8\"], [0.3333333333333333, \"#9c179e\"], [0.4444444444444444, \"#bd3786\"], [0.5555555555555556, \"#d8576b\"], [0.6666666666666666, \"#ed7953\"], [0.7777777777777778, \"#fb9f3a\"], [0.8888888888888888, \"#fdca26\"], [1.0, \"#f0f921\"]], \"type\": \"histogram2dcontour\"}], \"mesh3d\": [{\"colorbar\": {\"outlinewidth\": 0, \"ticks\": \"\"}, \"type\": \"mesh3d\"}], \"parcoords\": [{\"line\": {\"colorbar\": {\"outlinewidth\": 0, \"ticks\": \"\"}}, \"type\": \"parcoords\"}], \"pie\": [{\"automargin\": true, \"type\": \"pie\"}], \"scatter\": [{\"marker\": {\"colorbar\": {\"outlinewidth\": 0, \"ticks\": \"\"}}, \"type\": \"scatter\"}], \"scatter3d\": [{\"line\": {\"colorbar\": {\"outlinewidth\": 0, \"ticks\": \"\"}}, \"marker\": {\"colorbar\": {\"outlinewidth\": 0, \"ticks\": \"\"}}, \"type\": \"scatter3d\"}], \"scattercarpet\": [{\"marker\": {\"colorbar\": {\"outlinewidth\": 0, \"ticks\": \"\"}}, \"type\": \"scattercarpet\"}], \"scattergeo\": [{\"marker\": {\"colorbar\": {\"outlinewidth\": 0, \"ticks\": \"\"}}, \"type\": \"scattergeo\"}], \"scattergl\": [{\"marker\": {\"colorbar\": {\"outlinewidth\": 0, \"ticks\": \"\"}}, \"type\": \"scattergl\"}], \"scattermapbox\": [{\"marker\": {\"colorbar\": {\"outlinewidth\": 0, \"ticks\": \"\"}}, \"type\": \"scattermapbox\"}], \"scatterpolar\": [{\"marker\": {\"colorbar\": {\"outlinewidth\": 0, \"ticks\": \"\"}}, \"type\": \"scatterpolar\"}], \"scatterpolargl\": [{\"marker\": {\"colorbar\": {\"outlinewidth\": 0, \"ticks\": \"\"}}, \"type\": \"scatterpolargl\"}], \"scatterternary\": [{\"marker\": {\"colorbar\": {\"outlinewidth\": 0, \"ticks\": \"\"}}, \"type\": \"scatterternary\"}], \"surface\": [{\"colorbar\": {\"outlinewidth\": 0, \"ticks\": \"\"}, \"colorscale\": [[0.0, \"#0d0887\"], [0.1111111111111111, \"#46039f\"], [0.2222222222222222, \"#7201a8\"], [0.3333333333333333, \"#9c179e\"], [0.4444444444444444, \"#bd3786\"], [0.5555555555555556, \"#d8576b\"], [0.6666666666666666, \"#ed7953\"], [0.7777777777777778, \"#fb9f3a\"], [0.8888888888888888, \"#fdca26\"], [1.0, \"#f0f921\"]], \"type\": \"surface\"}], \"table\": [{\"cells\": {\"fill\": {\"color\": \"#EBF0F8\"}, \"line\": {\"color\": \"white\"}}, \"header\": {\"fill\": {\"color\": \"#C8D4E3\"}, \"line\": {\"color\": \"white\"}}, \"type\": \"table\"}]}, \"layout\": {\"annotationdefaults\": {\"arrowcolor\": \"#2a3f5f\", \"arrowhead\": 0, \"arrowwidth\": 1}, \"coloraxis\": {\"colorbar\": {\"outlinewidth\": 0, \"ticks\": \"\"}}, \"colorscale\": {\"diverging\": [[0, \"#8e0152\"], [0.1, \"#c51b7d\"], [0.2, \"#de77ae\"], [0.3, \"#f1b6da\"], [0.4, \"#fde0ef\"], [0.5, \"#f7f7f7\"], [0.6, \"#e6f5d0\"], [0.7, \"#b8e186\"], [0.8, \"#7fbc41\"], [0.9, \"#4d9221\"], [1, \"#276419\"]], \"sequential\": [[0.0, \"#0d0887\"], [0.1111111111111111, \"#46039f\"], [0.2222222222222222, \"#7201a8\"], [0.3333333333333333, \"#9c179e\"], [0.4444444444444444, \"#bd3786\"], [0.5555555555555556, \"#d8576b\"], [0.6666666666666666, \"#ed7953\"], [0.7777777777777778, \"#fb9f3a\"], [0.8888888888888888, \"#fdca26\"], [1.0, \"#f0f921\"]], \"sequentialminus\": [[0.0, \"#0d0887\"], [0.1111111111111111, \"#46039f\"], [0.2222222222222222, \"#7201a8\"], [0.3333333333333333, \"#9c179e\"], [0.4444444444444444, \"#bd3786\"], [0.5555555555555556, \"#d8576b\"], [0.6666666666666666, \"#ed7953\"], [0.7777777777777778, \"#fb9f3a\"], [0.8888888888888888, \"#fdca26\"], [1.0, \"#f0f921\"]]}, \"colorway\": [\"#636efa\", \"#EF553B\", \"#00cc96\", \"#ab63fa\", \"#FFA15A\", \"#19d3f3\", \"#FF6692\", \"#B6E880\", \"#FF97FF\", \"#FECB52\"], \"font\": {\"color\": \"#2a3f5f\"}, \"geo\": {\"bgcolor\": \"white\", \"lakecolor\": \"white\", \"landcolor\": \"#E5ECF6\", \"showlakes\": true, \"showland\": true, \"subunitcolor\": \"white\"}, \"hoverlabel\": {\"align\": \"left\"}, \"hovermode\": \"closest\", \"mapbox\": {\"style\": \"light\"}, \"paper_bgcolor\": \"white\", \"plot_bgcolor\": \"#E5ECF6\", \"polar\": {\"angularaxis\": {\"gridcolor\": \"white\", \"linecolor\": \"white\", \"ticks\": \"\"}, \"bgcolor\": \"#E5ECF6\", \"radialaxis\": {\"gridcolor\": \"white\", \"linecolor\": \"white\", \"ticks\": \"\"}}, \"scene\": {\"xaxis\": {\"backgroundcolor\": \"#E5ECF6\", \"gridcolor\": \"white\", \"gridwidth\": 2, \"linecolor\": \"white\", \"showbackground\": true, \"ticks\": \"\", \"zerolinecolor\": \"white\"}, \"yaxis\": {\"backgroundcolor\": \"#E5ECF6\", \"gridcolor\": \"white\", \"gridwidth\": 2, \"linecolor\": \"white\", \"showbackground\": true, \"ticks\": \"\", \"zerolinecolor\": \"white\"}, \"zaxis\": {\"backgroundcolor\": \"#E5ECF6\", \"gridcolor\": \"white\", \"gridwidth\": 2, \"linecolor\": \"white\", \"showbackground\": true, \"ticks\": \"\", \"zerolinecolor\": \"white\"}}, \"shapedefaults\": {\"line\": {\"color\": \"#2a3f5f\"}}, \"ternary\": {\"aaxis\": {\"gridcolor\": \"white\", \"linecolor\": \"white\", \"ticks\": \"\"}, \"baxis\": {\"gridcolor\": \"white\", \"linecolor\": \"white\", \"ticks\": \"\"}, \"bgcolor\": \"#E5ECF6\", \"caxis\": {\"gridcolor\": \"white\", \"linecolor\": \"white\", \"ticks\": \"\"}}, \"title\": {\"x\": 0.05}, \"xaxis\": {\"automargin\": true, \"gridcolor\": \"white\", \"linecolor\": \"white\", \"ticks\": \"\", \"title\": {\"standoff\": 15}, \"zerolinecolor\": \"white\", \"zerolinewidth\": 2}, \"yaxis\": {\"automargin\": true, \"gridcolor\": \"white\", \"linecolor\": \"white\", \"ticks\": \"\", \"title\": {\"standoff\": 15}, \"zerolinecolor\": \"white\", \"zerolinewidth\": 2}}}, \"title\": {\"text\": \"Find Mark a House!!\"}, \"xaxis\": {\"anchor\": \"y\", \"domain\": [0.0, 0.235], \"title\": {\"text\": \"Sq Ft\"}}, \"xaxis2\": {\"anchor\": \"y2\", \"domain\": [0.255, 0.49], \"matches\": \"x\", \"title\": {\"text\": \"Sq Ft\"}}, \"xaxis3\": {\"anchor\": \"y3\", \"domain\": [0.51, 0.745], \"matches\": \"x\", \"title\": {\"text\": \"Sq Ft\"}}, \"xaxis4\": {\"anchor\": \"y4\", \"domain\": [0.7649999999999999, 0.9999999999999999], \"matches\": \"x\", \"title\": {\"text\": \"Sq Ft\"}}, \"yaxis\": {\"anchor\": \"x\", \"domain\": [0.0, 1.0], \"title\": {\"text\": \"Home Price\"}}, \"yaxis2\": {\"anchor\": \"x2\", \"domain\": [0.0, 1.0], \"matches\": \"y\", \"showticklabels\": false}, \"yaxis3\": {\"anchor\": \"x3\", \"domain\": [0.0, 1.0], \"matches\": \"y\", \"showticklabels\": false}, \"yaxis4\": {\"anchor\": \"x4\", \"domain\": [0.0, 1.0], \"matches\": \"y\", \"showticklabels\": false}},\n",
       "                        {\"responsive\": true}\n",
       "                    ).then(function(){\n",
       "                            \n",
       "var gd = document.getElementById('381a87db-9e4d-4b18-8f0f-8da81843e806');\n",
       "var x = new MutationObserver(function (mutations, observer) {{\n",
       "        var display = window.getComputedStyle(gd).display;\n",
       "        if (!display || display === 'none') {{\n",
       "            console.log([gd, 'removed!']);\n",
       "            Plotly.purge(gd);\n",
       "            observer.disconnect();\n",
       "        }}\n",
       "}});\n",
       "\n",
       "// Listen for the removal of the full notebook cells\n",
       "var notebookContainer = gd.closest('#notebook-container');\n",
       "if (notebookContainer) {{\n",
       "    x.observe(notebookContainer, {childList: true});\n",
       "}}\n",
       "\n",
       "// Listen for the clearing of the current output cell\n",
       "var outputEl = gd.closest('.output');\n",
       "if (outputEl) {{\n",
       "    x.observe(outputEl, {childList: true});\n",
       "}}\n",
       "\n",
       "                        })\n",
       "                };\n",
       "                });\n",
       "            </script>\n",
       "        </div>"
      ]
     },
     "metadata": {},
     "output_type": "display_data"
    }
   ],
   "source": [
    "#create filters\n",
    "beds = 2\n",
    "baths = 2\n",
    "maxprice = 500000\n",
    "minprice = 250000\n",
    "#filter database based upon filters above\n",
    "houses = fs_filter.loc[fs_filter['Home Price']<=maxprice]\n",
    "houses = houses.loc[houses['Home Price']>=minprice]\n",
    "houses = houses.loc[houses['Beds']>=beds]\n",
    "houses = houses.loc[houses['Baths']>=baths]\n",
    "#plot interactive scatter plot\n",
    "labels = houses['Zip']\n",
    "plot = px.scatter(houses,x=houses['Sq Ft'],y=houses['Home Price'],title = \"Find Mark a House!!\",hover_name = houses['Address'],size = houses['Price per Square Foot'],facet_col = 'Zip')\n",
    "plot"
   ]
  },
  {
   "cell_type": "code",
   "execution_count": null,
   "metadata": {},
   "outputs": [],
   "source": []
  }
 ],
 "metadata": {
  "kernelspec": {
   "display_name": "Python 3",
   "language": "python",
   "name": "python3"
  },
  "language_info": {
   "codemirror_mode": {
    "name": "ipython",
    "version": 3
   },
   "file_extension": ".py",
   "mimetype": "text/x-python",
   "name": "python",
   "nbconvert_exporter": "python",
   "pygments_lexer": "ipython3",
   "version": "3.7.4"
  }
 },
 "nbformat": 4,
 "nbformat_minor": 2
}
