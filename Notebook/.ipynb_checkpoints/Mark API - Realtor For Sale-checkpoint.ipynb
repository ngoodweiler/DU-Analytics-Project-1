{
 "cells": [
  {
   "cell_type": "code",
   "execution_count": 2,
   "metadata": {},
   "outputs": [],
   "source": [
    "import requests"
   ]
  },
  {
   "cell_type": "code",
   "execution_count": 36,
   "metadata": {},
   "outputs": [],
   "source": [
    "url = \"https://realtor.p.rapidapi.com/properties/list-for-sale\"\n",
    "\n",
    "# https://rapidapi.com/apidojo/api/realtor/endpoints\n",
    "\n",
    "querystring = {\"sort\":\"relevance\",\"radius\":\"10\",\"offset\":\"0\",\"limit\":\"1000\",\"postal_code\":\"80202\"}\n",
    "\n",
    "# city - The value of city field responded in locations/auto-complete API (do not use this parameter with postal_code)\n",
    "# offset - The offset of items to be ignored in response for paging\n",
    "# limit - The number of items to be responded in every request\n",
    "# state code - The value of state_code field responded in locations/auto-complete API (do not use this parameter with postal_code)\n",
    "## postal code - Zip code or postal code (do not use this parameter with city and state_code)\n",
    "\n",
    "headers = {\n",
    "    'x-rapidapi-host': \"realtor.p.rapidapi.com\",\n",
    "    'x-rapidapi-key': \"aaf97ab322msh634818fa34ec594p1b03e3jsnaf892e7d4ed3\"\n",
    "    }\n",
    "\n",
    "# 500 Calls a month\n",
    "\n",
    "response = requests.request(\"GET\", url, headers=headers, params=querystring).json()"
   ]
  },
  {
   "cell_type": "code",
   "execution_count": 43,
   "metadata": {},
   "outputs": [],
   "source": [
    "listing = response[\"listings\"]"
   ]
  },
  {
   "cell_type": "code",
   "execution_count": 44,
   "metadata": {},
   "outputs": [],
   "source": [
    "addresscount=-1\n",
    "addresses = []\n",
    "for address in listing:\n",
    "    addresscount = addresscount+1\n",
    "    address = listing[addresscount][\"address\"]\n",
    "    addresses.append(address)\n",
    "    \n",
    "#Call addresses for addresses"
   ]
  },
  {
   "cell_type": "code",
   "execution_count": null,
   "metadata": {},
   "outputs": [],
   "source": []
  }
 ],
 "metadata": {
  "kernelspec": {
   "display_name": "Python 3",
   "language": "python",
   "name": "python3"
  },
  "language_info": {
   "codemirror_mode": {
    "name": "ipython",
    "version": 3
   },
   "file_extension": ".py",
   "mimetype": "text/x-python",
   "name": "python",
   "nbconvert_exporter": "python",
   "pygments_lexer": "ipython3",
   "version": "3.7.4"
  }
 },
 "nbformat": 4,
 "nbformat_minor": 2
}
