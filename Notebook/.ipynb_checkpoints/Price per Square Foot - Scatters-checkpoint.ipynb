{
 "cells": [
  {
   "cell_type": "code",
   "execution_count": 1,
   "metadata": {},
   "outputs": [],
   "source": [
    "# Import Dependencies\n",
    "import requests\n",
    "import json\n",
    "import pandas as pd\n",
    "import matplotlib.pyplot as plt"
   ]
  },
  {
   "cell_type": "code",
   "execution_count": 2,
   "metadata": {},
   "outputs": [],
   "source": [
    "# Import CSV with top zip codes\n",
    "top_zips_df = pd.read_csv('../Resources/25 Final Zip Codes.csv')"
   ]
  },
  {
   "cell_type": "code",
   "execution_count": 3,
   "metadata": {},
   "outputs": [],
   "source": [
    "# Create list of top 25 zips from the csv file\n",
    "zip_codes = top_zips_df[\"zip\"]"
   ]
  },
  {
   "cell_type": "code",
   "execution_count": 4,
   "metadata": {},
   "outputs": [],
   "source": [
    "# Create initial lists for everything we are pulling from the data frame\n",
    "listing_type = []\n",
    "addresses = []\n",
    "prices = []\n",
    "zips = []\n",
    "lats = []\n",
    "lons = []\n",
    "sqft = []\n",
    "beds = []\n",
    "baths = []"
   ]
  },
  {
   "cell_type": "code",
   "execution_count": 5,
   "metadata": {},
   "outputs": [],
   "source": [
    "# Set up url to call to Realtors \"sold houses\" API\n",
    "url = \"https://realtor.p.rapidapi.com/properties/list-sold\"\n",
    "\n",
    "# Set up initial parameters\n",
    "querystring = {\"sort\":\"relevance\",\n",
    "               \"offset\":\"0\",\n",
    "               \"limit\":\"200\"}\n",
    "\n",
    "# Set up headers to call through Rapid API\n",
    "headers = {\n",
    "    'x-rapidapi-host': \"realtor.p.rapidapi.com\",\n",
    "    'x-rapidapi-key': \"aaf97ab322msh634818fa34ec594p1b03e3jsnaf892e7d4ed3\"\n",
    "    }\n",
    "\n",
    "# Begin for loop, looking through the zip codes in the Top 25 Zip File\n",
    "for zip in zip_codes:\n",
    "    \n",
    "    counter=-1\n",
    "\n",
    "    # Update parameters with the current zip code\n",
    "    querystring['postal_code'] = zip\n",
    "    \n",
    "    # Was having issues with various zips not pulling, put in exception handling to keep it moving\n",
    "    try:\n",
    "        response = requests.request(\"GET\", url, headers=headers, params=querystring).json()\n",
    "        sold_listings = response[\"listings\"]\n",
    "    except:\n",
    "        continue\n",
    "    \n",
    "    # Once we've pulled the json for the current zip, we extract values from the json and add to our initial lists.\n",
    "    for listing in sold_listings:\n",
    "        try: \n",
    "            counter = counter+1\n",
    "            address = sold_listings[counter][\"address\"]\n",
    "            price = int(sold_listings[counter][\"price_raw\"])\n",
    "            lat = sold_listings[counter][\"lat\"]\n",
    "            lon = sold_listings[counter][\"lon\"]\n",
    "            zip = int(address[-5:])\n",
    "            sft = sold_listings[counter][\"sqft_raw\"]\n",
    "            bed = sold_listings[counter][\"beds\"]\n",
    "            bath = sold_listings[counter][\"baths\"]\n",
    "            listing_type.append(\"Sold\")\n",
    "            addresses.append(address)\n",
    "            prices.append(price)\n",
    "            lats.append(lat)\n",
    "            lons.append(lon)\n",
    "            zips.append(zip)\n",
    "            sqft.append(sft)\n",
    "            beds.append(bed)\n",
    "            baths.append(bath)\n",
    "        except (KeyError, IndexError):\n",
    "            listing_type.append(None)\n",
    "            addresses.append(None)\n",
    "            prices.append(None)\n",
    "            lats.append(None)\n",
    "            lons.append(None)\n",
    "            zips.append(None)\n",
    "            sqft.append(None)\n",
    "            beds.append(None)\n",
    "            baths.append(None)"
   ]
  },
  {
   "cell_type": "code",
   "execution_count": 6,
   "metadata": {},
   "outputs": [],
   "source": [
    "# Call to houses for sale API - Same format as above!\n",
    "url = \"https://realtor.p.rapidapi.com/properties/list-for-sale\"\n",
    "\n",
    "querystring = {\"sort\":\"relevance\",\n",
    "               \"offset\":\"0\",\n",
    "               \"limit\":\"200\"}\n",
    "\n",
    "headers = {\n",
    "    'x-rapidapi-host': \"realtor.p.rapidapi.com\",\n",
    "    'x-rapidapi-key': \"aaf97ab322msh634818fa34ec594p1b03e3jsnaf892e7d4ed3\"\n",
    "    }\n",
    "\n",
    "for zip in zip_codes:\n",
    "    \n",
    "    counter=-1\n",
    "\n",
    "    # update address key value\n",
    "    querystring['postal_code'] = zip\n",
    "    \n",
    "    try:\n",
    "        response = requests.request(\"GET\", url, headers=headers, params=querystring).json()\n",
    "        for_sale_listings = response[\"listings\"]\n",
    "    except:\n",
    "        continue\n",
    "    \n",
    "    \n",
    "    for listing in for_sale_listings:\n",
    "        try: \n",
    "            counter = counter+1\n",
    "            address = for_sale_listings[counter][\"address\"]\n",
    "            price = int(for_sale_listings[counter][\"price_raw\"])\n",
    "            lat = for_sale_listings[counter][\"lat\"]\n",
    "            lon = for_sale_listings[counter][\"lon\"]\n",
    "            zip = int(address[-5:])\n",
    "            sft = for_sale_listings[counter][\"sqft_raw\"]\n",
    "            bed = for_sale_listings[counter][\"beds\"]\n",
    "            bath = for_sale_listings[counter][\"baths\"]\n",
    "            listing_type.append(\"For Sale\")\n",
    "            addresses.append(address)\n",
    "            prices.append(price)\n",
    "            lats.append(lat)\n",
    "            lons.append(lon)\n",
    "            zips.append(zip)\n",
    "            sqft.append(sft)\n",
    "            beds.append(bed)\n",
    "            baths.append(bath)\n",
    "        except (KeyError, IndexError):\n",
    "            listing_type.append(None)\n",
    "            addresses.append(None)\n",
    "            prices.append(None)\n",
    "            lats.append(None)\n",
    "            lons.append(None)\n",
    "            zips.append(None)\n",
    "            sqft.append(None)\n",
    "            beds.append(None)\n",
    "            baths.append(None)"
   ]
  },
  {
   "cell_type": "code",
   "execution_count": 7,
   "metadata": {},
   "outputs": [],
   "source": [
    "# Create a data frame to hold results from the 2 API pulls above, create Price per Square Foot column.\n",
    "combined_df = pd.DataFrame()\n",
    "combined_df[\"Listing Type\"]= listing_type\n",
    "combined_df[\"Address\"]=addresses\n",
    "combined_df[\"Prices\"]=prices\n",
    "combined_df[\"Lat\"]=lats\n",
    "combined_df[\"Lon\"]=lons\n",
    "combined_df[\"Zip\"]=zips\n",
    "combined_df[\"Sq Ft\"]=sqft\n",
    "combined_df[\"Beds\"]=beds\n",
    "combined_df[\"Baths\"]=baths\n",
    "combined_df[\"Price per Square Foot\"]=\"\""
   ]
  },
  {
   "cell_type": "code",
   "execution_count": 8,
   "metadata": {},
   "outputs": [
    {
     "data": {
      "text/html": [
       "<div>\n",
       "<style scoped>\n",
       "    .dataframe tbody tr th:only-of-type {\n",
       "        vertical-align: middle;\n",
       "    }\n",
       "\n",
       "    .dataframe tbody tr th {\n",
       "        vertical-align: top;\n",
       "    }\n",
       "\n",
       "    .dataframe thead th {\n",
       "        text-align: right;\n",
       "    }\n",
       "</style>\n",
       "<table border=\"1\" class=\"dataframe\">\n",
       "  <thead>\n",
       "    <tr style=\"text-align: right;\">\n",
       "      <th></th>\n",
       "      <th>Listing Type</th>\n",
       "      <th>Address</th>\n",
       "      <th>Prices</th>\n",
       "      <th>Lat</th>\n",
       "      <th>Lon</th>\n",
       "      <th>Zip</th>\n",
       "      <th>Sq Ft</th>\n",
       "      <th>Beds</th>\n",
       "      <th>Baths</th>\n",
       "      <th>Price per Square Foot</th>\n",
       "    </tr>\n",
       "  </thead>\n",
       "  <tbody>\n",
       "    <tr>\n",
       "      <td>0</td>\n",
       "      <td>Sold</td>\n",
       "      <td>10350 W 55th Ln Unit 202 in Oberon West - Arva...</td>\n",
       "      <td>350000.0</td>\n",
       "      <td>39.796539</td>\n",
       "      <td>-105.117386</td>\n",
       "      <td>80002.0</td>\n",
       "      <td>1313.0</td>\n",
       "      <td>2.0</td>\n",
       "      <td>3</td>\n",
       "      <td>266.565118</td>\n",
       "    </tr>\n",
       "    <tr>\n",
       "      <td>1</td>\n",
       "      <td>Sold</td>\n",
       "      <td>5563 Newland Way, Arvada, 80002</td>\n",
       "      <td>420000.0</td>\n",
       "      <td>39.797902</td>\n",
       "      <td>-105.070391</td>\n",
       "      <td>80002.0</td>\n",
       "      <td>2092.0</td>\n",
       "      <td>4.0</td>\n",
       "      <td>4</td>\n",
       "      <td>200.764818</td>\n",
       "    </tr>\n",
       "    <tr>\n",
       "      <td>2</td>\n",
       "      <td>Sold</td>\n",
       "      <td>5747 Falk Ct in Arvada Plaza Area - Arvada,CO,...</td>\n",
       "      <td>445500.0</td>\n",
       "      <td>39.800982</td>\n",
       "      <td>-105.098869</td>\n",
       "      <td>80002.0</td>\n",
       "      <td>1320.0</td>\n",
       "      <td>3.0</td>\n",
       "      <td>3</td>\n",
       "      <td>337.500000</td>\n",
       "    </tr>\n",
       "    <tr>\n",
       "      <td>3</td>\n",
       "      <td>Sold</td>\n",
       "      <td>4890 Estes St in Pleasant Valley - Arvada,CO, ...</td>\n",
       "      <td>360000.0</td>\n",
       "      <td>39.785095</td>\n",
       "      <td>-105.094654</td>\n",
       "      <td>80002.0</td>\n",
       "      <td>1228.0</td>\n",
       "      <td>5.0</td>\n",
       "      <td>1</td>\n",
       "      <td>293.159609</td>\n",
       "    </tr>\n",
       "    <tr>\n",
       "      <td>4</td>\n",
       "      <td>Sold</td>\n",
       "      <td>5515 Otis Ct in Vetting - Arvada,CO, Arvada, 8...</td>\n",
       "      <td>376000.0</td>\n",
       "      <td>39.796628</td>\n",
       "      <td>-105.071632</td>\n",
       "      <td>80002.0</td>\n",
       "      <td>983.0</td>\n",
       "      <td>2.0</td>\n",
       "      <td>1</td>\n",
       "      <td>382.502543</td>\n",
       "    </tr>\n",
       "  </tbody>\n",
       "</table>\n",
       "</div>"
      ],
      "text/plain": [
       "  Listing Type                                            Address    Prices  \\\n",
       "0         Sold  10350 W 55th Ln Unit 202 in Oberon West - Arva...  350000.0   \n",
       "1         Sold                    5563 Newland Way, Arvada, 80002  420000.0   \n",
       "2         Sold  5747 Falk Ct in Arvada Plaza Area - Arvada,CO,...  445500.0   \n",
       "3         Sold  4890 Estes St in Pleasant Valley - Arvada,CO, ...  360000.0   \n",
       "4         Sold  5515 Otis Ct in Vetting - Arvada,CO, Arvada, 8...  376000.0   \n",
       "\n",
       "         Lat         Lon      Zip   Sq Ft  Beds Baths  Price per Square Foot  \n",
       "0  39.796539 -105.117386  80002.0  1313.0   2.0     3             266.565118  \n",
       "1  39.797902 -105.070391  80002.0  2092.0   4.0     4             200.764818  \n",
       "2  39.800982 -105.098869  80002.0  1320.0   3.0     3             337.500000  \n",
       "3  39.785095 -105.094654  80002.0  1228.0   5.0     1             293.159609  \n",
       "4  39.796628 -105.071632  80002.0   983.0   2.0     1             382.502543  "
      ]
     },
     "execution_count": 8,
     "metadata": {},
     "output_type": "execute_result"
    }
   ],
   "source": [
    "# Reformat Sq Ft as a float, remove listing with 0 sq ft (new builds, land, etc.), calculate price per square foot.\n",
    "\n",
    "combined_df[\"Sq Ft\"] = combined_df[\"Sq Ft\"].astype(float)\n",
    "combined_df[\"Prices\"] = combined_df[\"Prices\"].astype(float)\n",
    "\n",
    "combined_df = combined_df.loc[(combined_df[\"Sq Ft\"]>0),:]\n",
    "combined_df[\"Price per Square Foot\"] = combined_df[\"Prices\"]/combined_df[\"Sq Ft\"]\n",
    "\n",
    "combined_df.head()"
   ]
  },
  {
   "cell_type": "code",
   "execution_count": 9,
   "metadata": {},
   "outputs": [],
   "source": [
    "# Create two data frames, one for Homes Sold recently and one for Houses for Sale currently. \n",
    "# I realized there are some outliers in the Sold data (not sure whats going on but some are thousands per sq ft)\n",
    "# Removing those outliers that are unrelatiscally priced. \n",
    "\n",
    "for_sale_df = combined_df.loc[(combined_df[\"Listing Type\"] == \"For Sale\"),:]\n",
    "sold_df = combined_df.loc[(combined_df[\"Listing Type\"] == \"Sold\") & (combined_df[\"Price per Square Foot\"] < 1000),:]"
   ]
  },
  {
   "cell_type": "code",
   "execution_count": 10,
   "metadata": {},
   "outputs": [],
   "source": [
    "# Creating csv files so the API does not need to be called every time\n",
    "for_sale_output = \"../Resources/for_sale.csv\"\n",
    "sold_output = \"../Resources/sold.csv\"\n",
    "for_sale_df.to_csv(for_sale_output)\n",
    "sold_df.to_csv(sold_output)\n"
   ]
  },
  {
   "cell_type": "code",
   "execution_count": 11,
   "metadata": {},
   "outputs": [],
   "source": [
    "# Calling the saved files for plots below\n",
    "for_sale_df = pd.read_csv(for_sale_output)\n",
    "sold_df = pd.read_csv(sold_output)"
   ]
  },
  {
   "cell_type": "code",
   "execution_count": 17,
   "metadata": {},
   "outputs": [],
   "source": [
    "# Cleaning up zip code column to remove decimal\n",
    "for_sale_df['Zip'] = for_sale_df['Zip'].astype(int)\n",
    "sold_df['Zip'] = sold_df['Zip'].astype(int)"
   ]
  },
  {
   "cell_type": "code",
   "execution_count": 18,
   "metadata": {},
   "outputs": [
    {
     "data": {
      "image/png": "[encoded data removed]",
      "text/plain": [
       "<Figure size 1440x720 with 1 Axes>"
      ]
     },
     "metadata": {
      "needs_background": "light"
     },
     "output_type": "display_data"
    }
   ],
   "source": [
    "# Create a boxplot to compare means\n",
    "for_sale_df.boxplot(\"Price per Square Foot\", by=\"Zip\", figsize=(20, 10))\n",
    "plt.show()"
   ]
  },
  {
   "cell_type": "code",
   "execution_count": 19,
   "metadata": {},
   "outputs": [
    {
     "data": {
      "image/png": "[encoded data removed]",
      "text/plain": [
       "<Figure size 1440x720 with 1 Axes>"
      ]
     },
     "metadata": {
      "needs_background": "light"
     },
     "output_type": "display_data"
    }
   ],
   "source": [
    "# Create a boxplot to compare means\n",
    "sold_df.boxplot(\"Price per Square Foot\", by=\"Zip\", figsize=(20, 10))\n",
    "plt.show()"
   ]
  },
  {
   "cell_type": "code",
   "execution_count": null,
   "metadata": {},
   "outputs": [],
   "source": []
  }
 ],
 "metadata": {
  "kernelspec": {
   "display_name": "Python 3",
   "language": "python",
   "name": "python3"
  },
  "language_info": {
   "codemirror_mode": {
    "name": "ipython",
    "version": 3
   },
   "file_extension": ".py",
   "mimetype": "text/x-python",
   "name": "python",
   "nbconvert_exporter": "python",
   "pygments_lexer": "ipython3",
   "version": "3.7.4"
  }
 },
 "nbformat": 4,
 "nbformat_minor": 2
}
