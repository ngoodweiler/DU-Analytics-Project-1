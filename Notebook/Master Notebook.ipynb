{
 "cells": [
  {
   "cell_type": "code",
   "execution_count": 31,
   "metadata": {},
   "outputs": [],
   "source": [
    "# Import Dependencies\n",
    "import pandas as pd\n",
    "import numpy as np"
   ]
  },
  {
   "cell_type": "code",
   "execution_count": 32,
   "metadata": {},
   "outputs": [],
   "source": [
    "#Import zipcode key csv file\n",
    "zip_code_csv = \"../Resources/zip_code_database.csv\""
   ]
  },
  {
   "cell_type": "code",
   "execution_count": 33,
   "metadata": {},
   "outputs": [],
   "source": [
    "#Create Original DataFrame, replace na with blank stings\n",
    "zip_code_df = pd.read_csv(zip_code_csv)\n",
    "zip_code_df = zip_code_df.replace(np.nan, '', regex=True)"
   ]
  },
  {
   "cell_type": "code",
   "execution_count": 38,
   "metadata": {},
   "outputs": [],
   "source": [
    "#Filter on just Colorado Zip Codes and sort by population, take top 25 most populated zips in CO\n",
    "co_zip_code = zip_code_df.loc[(zip_code_df[\"state\"] == \"CO\"),:]\n",
    "co_zip_code = co_zip_code.sort_values(by = \"irs_estimated_population_2015\", ascending=False)\n",
    "co_zip_code = co_zip_code.nlargest(25, \"irs_estimated_population_2015\", keep='first')\n",
    "co_zip_code = co_zip_code[[\"zip\",\"latitude\",\"longitude\"]]\n",
    "co_zip_code = co_zip_code.set_index(\"zip\")"
   ]
  },
  {
   "cell_type": "code",
   "execution_count": null,
   "metadata": {},
   "outputs": [],
   "source": []
  }
 ],
 "metadata": {
  "kernelspec": {
   "display_name": "Python 3",
   "language": "python",
   "name": "python3"
  },
  "language_info": {
   "codemirror_mode": {
    "name": "ipython",
    "version": 3
   },
   "file_extension": ".py",
   "mimetype": "text/x-python",
   "name": "python",
   "nbconvert_exporter": "python",
   "pygments_lexer": "ipython3",
   "version": "3.7.4"
  }
 },
 "nbformat": 4,
 "nbformat_minor": 2
}
